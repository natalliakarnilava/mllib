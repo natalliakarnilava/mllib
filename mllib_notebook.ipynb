{
 "cells": [
  {
   "cell_type": "markdown",
   "id": "812bfbd6",
   "metadata": {
    "id": "GEqQaHzsZ_bA"
   },
   "source": [
    "# Предсказание стоимости жилья\n",
    "\n",
    "В проекте нужно обучить модель линейной регрессии на данных о жилье в Калифорнии в 1990 году. На основе данных нужно предсказать медианную стоимость дома в жилом массиве. Обучите модель и сделайте предсказания на тестовой выборке. Для оценки качества модели используйте метрики RMSE, MAE и R2."
   ]
  },
  {
   "cell_type": "markdown",
   "id": "8b35e439",
   "metadata": {
    "id": "53871372"
   },
   "source": [
    "## Подготовка данных"
   ]
  },
  {
   "cell_type": "markdown",
   "id": "fc1b51e7",
   "metadata": {},
   "source": [
    "Сначала произведем все необходимые импорты:"
   ]
  },
  {
   "cell_type": "code",
   "execution_count": 1,
   "id": "12f441cf",
   "metadata": {},
   "outputs": [],
   "source": [
    "import pandas as pd \n",
    "import numpy as np\n",
    "import pyspark\n",
    "\n",
    "from pyspark.sql import SparkSession\n",
    "from pyspark.sql.types import *\n",
    "import pyspark.sql.functions as F\n",
    "import seaborn as sns\n",
    "from pyspark.ml.feature import OneHotEncoder \n",
    "from pyspark.ml.feature import StringIndexer, VectorAssembler, StandardScaler\n",
    "from pyspark.ml.regression import LinearRegression\n",
    "from pyspark.ml.evaluation import RegressionEvaluator\n",
    "RANDOM_SEED = 2022"
   ]
  },
  {
   "cell_type": "markdown",
   "id": "9821746c",
   "metadata": {},
   "source": [
    "Инициализируем локальную Spark-сессию:"
   ]
  },
  {
   "cell_type": "code",
   "execution_count": 2,
   "id": "8924e74c",
   "metadata": {},
   "outputs": [],
   "source": [
    "spark = SparkSession.builder \\\n",
    "                    .appName(\"EDA California Housing\") \\\n",
    "                    .getOrCreate()"
   ]
  },
  {
   "cell_type": "markdown",
   "id": "ad0cd772",
   "metadata": {},
   "source": [
    "Прочитаем содержимое файла `'\\/datasets/housing.csv'`:"
   ]
  },
  {
   "cell_type": "code",
   "execution_count": 3,
   "id": "51e4168a",
   "metadata": {
    "scrolled": false
   },
   "outputs": [
    {
     "name": "stderr",
     "output_type": "stream",
     "text": [
      "                                                                                \r"
     ]
    },
    {
     "name": "stdout",
     "output_type": "stream",
     "text": [
      "root\n",
      " |-- longitude: double (nullable = true)\n",
      " |-- latitude: double (nullable = true)\n",
      " |-- housing_median_age: double (nullable = true)\n",
      " |-- total_rooms: double (nullable = true)\n",
      " |-- total_bedrooms: double (nullable = true)\n",
      " |-- population: double (nullable = true)\n",
      " |-- households: double (nullable = true)\n",
      " |-- median_income: double (nullable = true)\n",
      " |-- median_house_value: double (nullable = true)\n",
      " |-- ocean_proximity: string (nullable = true)\n",
      "\n"
     ]
    }
   ],
   "source": [
    "df_housing = spark.read.option('header', 'true').csv('/datasets/housing.csv', inferSchema = True) \n",
    "df_housing.printSchema() "
   ]
  },
  {
   "cell_type": "markdown",
   "id": "63fa3338",
   "metadata": {},
   "source": [
    "В колонках датасета содержатся следующие данные:\n",
    "\n",
    "* `longitude` — широта;\n",
    "* `latitude` — долгота;\n",
    "* `housing_median_age` — медианный возраст жителей жилого массива;\n",
    "* `total_rooms` — общее количество комнат в домах жилого массива;\n",
    "* `total_bedrooms` — общее количество спален в домах жилого массива;\n",
    "* `population` — количество человек, которые проживают в жилом массиве;\n",
    "* `households` — количество домовладений в жилом массиве;\n",
    "* `median_income` — медианный доход жителей жилого массива;\n",
    "* `median_house_value` — медианная стоимость дома в жилом массиве;\n",
    "* `ocean_proximity` — близость к океану.\n",
    "\n",
    "В большинстве колонок хранятся количественные данные, кроме одной — ocean_proximity. Она хранит категориальные значения."
   ]
  },
  {
   "cell_type": "markdown",
   "id": "aa5ac637",
   "metadata": {},
   "source": [
    "Выведем типы данных колонок датасета. Используем для этого метод pySpark `dtypes`:"
   ]
  },
  {
   "cell_type": "code",
   "execution_count": 4,
   "id": "47833b2e",
   "metadata": {},
   "outputs": [
    {
     "name": "stdout",
     "output_type": "stream",
     "text": [
      "               column    type\n",
      "0           longitude  double\n",
      "1            latitude  double\n",
      "2  housing_median_age  double\n",
      "3         total_rooms  double\n",
      "4      total_bedrooms  double\n",
      "5          population  double\n",
      "6          households  double\n",
      "7       median_income  double\n",
      "8  median_house_value  double\n",
      "9     ocean_proximity  string\n"
     ]
    }
   ],
   "source": [
    "print(pd.DataFrame(df_housing.dtypes, columns=['column', 'type']))"
   ]
  },
  {
   "cell_type": "markdown",
   "id": "dc6b385d",
   "metadata": {},
   "source": [
    "Более детально изучим данные. Для этого вызовем метод `describe`:"
   ]
  },
  {
   "cell_type": "code",
   "execution_count": 5,
   "id": "2f066cb1",
   "metadata": {},
   "outputs": [
    {
     "name": "stderr",
     "output_type": "stream",
     "text": [
      "                                                                                \r"
     ]
    },
    {
     "data": {
      "text/html": [
       "<div>\n",
       "<style scoped>\n",
       "    .dataframe tbody tr th:only-of-type {\n",
       "        vertical-align: middle;\n",
       "    }\n",
       "\n",
       "    .dataframe tbody tr th {\n",
       "        vertical-align: top;\n",
       "    }\n",
       "\n",
       "    .dataframe thead th {\n",
       "        text-align: right;\n",
       "    }\n",
       "</style>\n",
       "<table border=\"1\" class=\"dataframe\">\n",
       "  <thead>\n",
       "    <tr style=\"text-align: right;\">\n",
       "      <th></th>\n",
       "      <th>summary</th>\n",
       "      <th>longitude</th>\n",
       "      <th>latitude</th>\n",
       "      <th>housing_median_age</th>\n",
       "      <th>total_rooms</th>\n",
       "      <th>total_bedrooms</th>\n",
       "      <th>population</th>\n",
       "      <th>households</th>\n",
       "      <th>median_income</th>\n",
       "      <th>median_house_value</th>\n",
       "      <th>ocean_proximity</th>\n",
       "    </tr>\n",
       "  </thead>\n",
       "  <tbody>\n",
       "    <tr>\n",
       "      <th>0</th>\n",
       "      <td>count</td>\n",
       "      <td>20640</td>\n",
       "      <td>20640</td>\n",
       "      <td>20640</td>\n",
       "      <td>20640</td>\n",
       "      <td>20433</td>\n",
       "      <td>20640</td>\n",
       "      <td>20640</td>\n",
       "      <td>20640</td>\n",
       "      <td>20640</td>\n",
       "      <td>20640</td>\n",
       "    </tr>\n",
       "    <tr>\n",
       "      <th>1</th>\n",
       "      <td>mean</td>\n",
       "      <td>-119.56970445736148</td>\n",
       "      <td>35.6318614341087</td>\n",
       "      <td>28.639486434108527</td>\n",
       "      <td>2635.7630813953488</td>\n",
       "      <td>537.8705525375618</td>\n",
       "      <td>1425.4767441860465</td>\n",
       "      <td>499.5396802325581</td>\n",
       "      <td>3.8706710029070246</td>\n",
       "      <td>206855.81690891474</td>\n",
       "      <td>None</td>\n",
       "    </tr>\n",
       "    <tr>\n",
       "      <th>2</th>\n",
       "      <td>stddev</td>\n",
       "      <td>2.003531723502584</td>\n",
       "      <td>2.135952397457101</td>\n",
       "      <td>12.58555761211163</td>\n",
       "      <td>2181.6152515827944</td>\n",
       "      <td>421.38507007403115</td>\n",
       "      <td>1132.46212176534</td>\n",
       "      <td>382.3297528316098</td>\n",
       "      <td>1.899821717945263</td>\n",
       "      <td>115395.61587441359</td>\n",
       "      <td>None</td>\n",
       "    </tr>\n",
       "    <tr>\n",
       "      <th>3</th>\n",
       "      <td>min</td>\n",
       "      <td>-124.35</td>\n",
       "      <td>32.54</td>\n",
       "      <td>1.0</td>\n",
       "      <td>2.0</td>\n",
       "      <td>1.0</td>\n",
       "      <td>3.0</td>\n",
       "      <td>1.0</td>\n",
       "      <td>0.4999</td>\n",
       "      <td>14999.0</td>\n",
       "      <td>&lt;1H OCEAN</td>\n",
       "    </tr>\n",
       "    <tr>\n",
       "      <th>4</th>\n",
       "      <td>max</td>\n",
       "      <td>-114.31</td>\n",
       "      <td>41.95</td>\n",
       "      <td>52.0</td>\n",
       "      <td>39320.0</td>\n",
       "      <td>6445.0</td>\n",
       "      <td>35682.0</td>\n",
       "      <td>6082.0</td>\n",
       "      <td>15.0001</td>\n",
       "      <td>500001.0</td>\n",
       "      <td>NEAR OCEAN</td>\n",
       "    </tr>\n",
       "  </tbody>\n",
       "</table>\n",
       "</div>"
      ],
      "text/plain": [
       "  summary            longitude           latitude  housing_median_age  \\\n",
       "0   count                20640              20640               20640   \n",
       "1    mean  -119.56970445736148   35.6318614341087  28.639486434108527   \n",
       "2  stddev    2.003531723502584  2.135952397457101   12.58555761211163   \n",
       "3     min              -124.35              32.54                 1.0   \n",
       "4     max              -114.31              41.95                52.0   \n",
       "\n",
       "          total_rooms      total_bedrooms          population  \\\n",
       "0               20640               20433               20640   \n",
       "1  2635.7630813953488   537.8705525375618  1425.4767441860465   \n",
       "2  2181.6152515827944  421.38507007403115    1132.46212176534   \n",
       "3                 2.0                 1.0                 3.0   \n",
       "4             39320.0              6445.0             35682.0   \n",
       "\n",
       "          households       median_income  median_house_value ocean_proximity  \n",
       "0              20640               20640               20640           20640  \n",
       "1  499.5396802325581  3.8706710029070246  206855.81690891474            None  \n",
       "2  382.3297528316098   1.899821717945263  115395.61587441359            None  \n",
       "3                1.0              0.4999             14999.0       <1H OCEAN  \n",
       "4             6082.0             15.0001            500001.0      NEAR OCEAN  "
      ]
     },
     "execution_count": 5,
     "metadata": {},
     "output_type": "execute_result"
    }
   ],
   "source": [
    "df_housing.describe().toPandas()"
   ]
  },
  {
   "cell_type": "markdown",
   "id": "29e5ed39",
   "metadata": {
    "id": "df92e3ec"
   },
   "source": [
    "Выполним предобработку данных.\n",
    "\n",
    "Исследуем данные на наличие пропусков:"
   ]
  },
  {
   "cell_type": "code",
   "execution_count": 6,
   "id": "f257edeb",
   "metadata": {},
   "outputs": [
    {
     "name": "stdout",
     "output_type": "stream",
     "text": [
      "longitude 0\n",
      "latitude 0\n",
      "housing_median_age 0\n",
      "total_rooms 0\n",
      "total_bedrooms 207\n",
      "population 0\n",
      "households 0\n",
      "median_income 0\n",
      "median_house_value 0\n",
      "ocean_proximity 0\n"
     ]
    }
   ],
   "source": [
    "columns = df_housing.columns\n",
    "\n",
    "\n",
    "for column in columns:\n",
    "    print(column, df_housing.where(F.isnan(column) | F.col(column).isNull()).count())\n",
    "    "
   ]
  },
  {
   "cell_type": "markdown",
   "id": "ffa024da",
   "metadata": {},
   "source": [
    "Колонка `total_bedrooms` содержит 207 пропусков - это 1% от общего количества записей в таблице. Поэтому удалим строки, содержащие пропуски:"
   ]
  },
  {
   "cell_type": "code",
   "execution_count": 7,
   "id": "0cef1d33",
   "metadata": {},
   "outputs": [],
   "source": [
    "df_housing = df_housing.na.drop(how='any')"
   ]
  },
  {
   "cell_type": "markdown",
   "id": "b4e4666b",
   "metadata": {},
   "source": [
    "Проверим, как сработало удаление:"
   ]
  },
  {
   "cell_type": "code",
   "execution_count": 8,
   "id": "a71cd411",
   "metadata": {},
   "outputs": [
    {
     "name": "stdout",
     "output_type": "stream",
     "text": [
      "longitude 0\n",
      "latitude 0\n",
      "housing_median_age 0\n",
      "total_rooms 0\n",
      "total_bedrooms 0\n",
      "population 0\n",
      "households 0\n",
      "median_income 0\n",
      "median_house_value 0\n",
      "ocean_proximity 0\n"
     ]
    }
   ],
   "source": [
    "columns = df_housing.columns\n",
    "\n",
    "\n",
    "for column in columns:\n",
    "    print(column, df_housing.where(F.isnan(column) | F.col(column).isNull()).count())\n",
    "    "
   ]
  },
  {
   "cell_type": "markdown",
   "id": "45c83d8e",
   "metadata": {},
   "source": [
    "Разделим колонки на два типа: числовые и текстовые, которые представляют категориальные данные:"
   ]
  },
  {
   "cell_type": "code",
   "execution_count": 9,
   "id": "1c7ef1fd",
   "metadata": {},
   "outputs": [],
   "source": [
    "categorical_cols = ['ocean_proximity']\n",
    "numerical_cols  = [\"longitude\", \"latitude\", \"housing_median_age\", \"total_rooms\", \"total_bedrooms\", \"population\", \"households\", \"median_income\"]\n",
    "target = \"median_house_value\" \n"
   ]
  },
  {
   "cell_type": "markdown",
   "id": "a0cadeb7",
   "metadata": {},
   "source": [
    "Далее приступим к первому этапу — трансформации признаков.\n",
    "\n",
    "Преобразуем колонку с категориальными значениями с помощью базовых трансформеров признаков — StringIndexer и OneHotEncoder:\n",
    "\n",
    "Сначала трансформируем категориальные признаки в числовое представление с помощью трансформера StringIndexer:"
   ]
  },
  {
   "cell_type": "code",
   "execution_count": 10,
   "id": "4c6a5af6",
   "metadata": {},
   "outputs": [
    {
     "name": "stderr",
     "output_type": "stream",
     "text": [
      "                                                                                \r"
     ]
    }
   ],
   "source": [
    "indexer = StringIndexer(inputCols=categorical_cols, \n",
    "                        outputCols=[c+'_idx' for c in categorical_cols]) \n",
    "df_housing = indexer.fit(df_housing).transform(df_housing)"
   ]
  },
  {
   "cell_type": "markdown",
   "id": "60d55b64",
   "metadata": {},
   "source": [
    "Далее выполним OHE-кодирование для категорий:"
   ]
  },
  {
   "cell_type": "code",
   "execution_count": 11,
   "id": "f5fa771e",
   "metadata": {},
   "outputs": [
    {
     "data": {
      "text/html": [
       "<div>\n",
       "<style scoped>\n",
       "    .dataframe tbody tr th:only-of-type {\n",
       "        vertical-align: middle;\n",
       "    }\n",
       "\n",
       "    .dataframe tbody tr th {\n",
       "        vertical-align: top;\n",
       "    }\n",
       "\n",
       "    .dataframe thead th {\n",
       "        text-align: right;\n",
       "    }\n",
       "</style>\n",
       "<table border=\"1\" class=\"dataframe\">\n",
       "  <thead>\n",
       "    <tr style=\"text-align: right;\">\n",
       "      <th></th>\n",
       "      <th>longitude</th>\n",
       "      <th>latitude</th>\n",
       "      <th>housing_median_age</th>\n",
       "      <th>total_rooms</th>\n",
       "      <th>total_bedrooms</th>\n",
       "      <th>population</th>\n",
       "      <th>households</th>\n",
       "      <th>median_income</th>\n",
       "      <th>median_house_value</th>\n",
       "      <th>ocean_proximity</th>\n",
       "      <th>ocean_proximity_idx</th>\n",
       "      <th>ocean_proximity_ohe</th>\n",
       "    </tr>\n",
       "  </thead>\n",
       "  <tbody>\n",
       "    <tr>\n",
       "      <th>0</th>\n",
       "      <td>-122.23</td>\n",
       "      <td>37.88</td>\n",
       "      <td>41.0</td>\n",
       "      <td>880.0</td>\n",
       "      <td>129.0</td>\n",
       "      <td>322.0</td>\n",
       "      <td>126.0</td>\n",
       "      <td>8.3252</td>\n",
       "      <td>452600.0</td>\n",
       "      <td>NEAR BAY</td>\n",
       "      <td>3.0</td>\n",
       "      <td>(0.0, 0.0, 0.0, 1.0)</td>\n",
       "    </tr>\n",
       "    <tr>\n",
       "      <th>1</th>\n",
       "      <td>-122.22</td>\n",
       "      <td>37.86</td>\n",
       "      <td>21.0</td>\n",
       "      <td>7099.0</td>\n",
       "      <td>1106.0</td>\n",
       "      <td>2401.0</td>\n",
       "      <td>1138.0</td>\n",
       "      <td>8.3014</td>\n",
       "      <td>358500.0</td>\n",
       "      <td>NEAR BAY</td>\n",
       "      <td>3.0</td>\n",
       "      <td>(0.0, 0.0, 0.0, 1.0)</td>\n",
       "    </tr>\n",
       "    <tr>\n",
       "      <th>2</th>\n",
       "      <td>-122.24</td>\n",
       "      <td>37.85</td>\n",
       "      <td>52.0</td>\n",
       "      <td>1467.0</td>\n",
       "      <td>190.0</td>\n",
       "      <td>496.0</td>\n",
       "      <td>177.0</td>\n",
       "      <td>7.2574</td>\n",
       "      <td>352100.0</td>\n",
       "      <td>NEAR BAY</td>\n",
       "      <td>3.0</td>\n",
       "      <td>(0.0, 0.0, 0.0, 1.0)</td>\n",
       "    </tr>\n",
       "    <tr>\n",
       "      <th>3</th>\n",
       "      <td>-122.25</td>\n",
       "      <td>37.85</td>\n",
       "      <td>52.0</td>\n",
       "      <td>1274.0</td>\n",
       "      <td>235.0</td>\n",
       "      <td>558.0</td>\n",
       "      <td>219.0</td>\n",
       "      <td>5.6431</td>\n",
       "      <td>341300.0</td>\n",
       "      <td>NEAR BAY</td>\n",
       "      <td>3.0</td>\n",
       "      <td>(0.0, 0.0, 0.0, 1.0)</td>\n",
       "    </tr>\n",
       "    <tr>\n",
       "      <th>4</th>\n",
       "      <td>-122.25</td>\n",
       "      <td>37.85</td>\n",
       "      <td>52.0</td>\n",
       "      <td>1627.0</td>\n",
       "      <td>280.0</td>\n",
       "      <td>565.0</td>\n",
       "      <td>259.0</td>\n",
       "      <td>3.8462</td>\n",
       "      <td>342200.0</td>\n",
       "      <td>NEAR BAY</td>\n",
       "      <td>3.0</td>\n",
       "      <td>(0.0, 0.0, 0.0, 1.0)</td>\n",
       "    </tr>\n",
       "  </tbody>\n",
       "</table>\n",
       "</div>"
      ],
      "text/plain": [
       "   longitude  latitude  housing_median_age  total_rooms  total_bedrooms  \\\n",
       "0    -122.23     37.88                41.0        880.0           129.0   \n",
       "1    -122.22     37.86                21.0       7099.0          1106.0   \n",
       "2    -122.24     37.85                52.0       1467.0           190.0   \n",
       "3    -122.25     37.85                52.0       1274.0           235.0   \n",
       "4    -122.25     37.85                52.0       1627.0           280.0   \n",
       "\n",
       "   population  households  median_income  median_house_value ocean_proximity  \\\n",
       "0       322.0       126.0         8.3252            452600.0        NEAR BAY   \n",
       "1      2401.0      1138.0         8.3014            358500.0        NEAR BAY   \n",
       "2       496.0       177.0         7.2574            352100.0        NEAR BAY   \n",
       "3       558.0       219.0         5.6431            341300.0        NEAR BAY   \n",
       "4       565.0       259.0         3.8462            342200.0        NEAR BAY   \n",
       "\n",
       "   ocean_proximity_idx   ocean_proximity_ohe  \n",
       "0                  3.0  (0.0, 0.0, 0.0, 1.0)  \n",
       "1                  3.0  (0.0, 0.0, 0.0, 1.0)  \n",
       "2                  3.0  (0.0, 0.0, 0.0, 1.0)  \n",
       "3                  3.0  (0.0, 0.0, 0.0, 1.0)  \n",
       "4                  3.0  (0.0, 0.0, 0.0, 1.0)  "
      ]
     },
     "execution_count": 11,
     "metadata": {},
     "output_type": "execute_result"
    }
   ],
   "source": [
    "ohe = OneHotEncoder(inputCols=[c+'_idx' for c in categorical_cols],\n",
    "                        outputCols=[c+'_ohe' for c in categorical_cols])\n",
    "\n",
    "df_housing = ohe.fit(df_housing).transform(df_housing)\n",
    "df_housing.toPandas().head()"
   ]
  },
  {
   "cell_type": "markdown",
   "id": "49a78e9d",
   "metadata": {},
   "source": [
    "Объединим  признаки в один вектор с помощью VectorAssembler:"
   ]
  },
  {
   "cell_type": "code",
   "execution_count": 12,
   "id": "8be63057",
   "metadata": {},
   "outputs": [],
   "source": [
    "categorical_assembler = \\\n",
    "        VectorAssembler(inputCols=[c+'_ohe' for c in categorical_cols],\n",
    "                                        outputCol=\"categorical_features\")\n",
    "df_housing = categorical_assembler.transform(df_housing)"
   ]
  },
  {
   "cell_type": "markdown",
   "id": "118970a8",
   "metadata": {
    "id": "9f0a82f3"
   },
   "source": [
    "## Обучение моделей"
   ]
  },
  {
   "cell_type": "markdown",
   "id": "0b01a4d8",
   "metadata": {},
   "source": [
    "Прежде, чем перейти к обучению моделей мы трансформируем и числовые признаки. Это нужно, чтобы сильные выбросы не влияли на результат работы модели."
   ]
  },
  {
   "cell_type": "code",
   "execution_count": 13,
   "id": "435aae61",
   "metadata": {},
   "outputs": [
    {
     "name": "stderr",
     "output_type": "stream",
     "text": [
      "                                                                                \r"
     ]
    }
   ],
   "source": [
    "numerical_assembler = VectorAssembler(inputCols=numerical_cols, outputCol=\"numerical_features\")\n",
    "df_housing = numerical_assembler.transform(df_housing)\n",
    "standardScaler = StandardScaler(inputCol='numerical_features',outputCol=\"numerical_features_scaled\")\n",
    "df_housing = standardScaler.fit(df_housing).transform(df_housing) "
   ]
  },
  {
   "cell_type": "markdown",
   "id": "ae3fa623",
   "metadata": {},
   "source": [
    "Далее соберем полученные категорийные и числовые признаки с помощью VectorAssembler:"
   ]
  },
  {
   "cell_type": "code",
   "execution_count": 14,
   "id": "54eaa974",
   "metadata": {},
   "outputs": [],
   "source": [
    "all_features = ['categorical_features','numerical_features_scaled']\n",
    "\n",
    "final_assembler = VectorAssembler(inputCols=all_features, outputCol=\"features\") \n",
    "df_housing = final_assembler.transform(df_housing)"
   ]
  },
  {
   "cell_type": "code",
   "execution_count": 15,
   "id": "682110ad",
   "metadata": {},
   "outputs": [
    {
     "name": "stdout",
     "output_type": "stream",
     "text": [
      "+--------------------+-------------------------+\n",
      "|categorical_features|numerical_features_scaled|\n",
      "+--------------------+-------------------------+\n",
      "|       (4,[3],[1.0])|     [-61.005863841998...|\n",
      "|       (4,[3],[1.0])|     [-61.000872770752...|\n",
      "|       (4,[3],[1.0])|     [-61.010854913244...|\n",
      "+--------------------+-------------------------+\n",
      "only showing top 3 rows\n",
      "\n"
     ]
    }
   ],
   "source": [
    "df_housing.select(all_features).show(3) "
   ]
  },
  {
   "cell_type": "markdown",
   "id": "8fe3b7d9",
   "metadata": {},
   "source": [
    "Нам нужно построить две модели линейной регрессии на разных наборах данных. \n",
    "\n",
    "Для этого разделим наш датасет на две части  - выборку для обучения и выборку для тестирования качества модели.\n",
    "Для каждого разбиения будем использовать  метод `randomSplit()`.Выведем количество записей в выборках на экран при помощи метода `count()`:"
   ]
  },
  {
   "cell_type": "code",
   "execution_count": 16,
   "id": "fa06d55d",
   "metadata": {},
   "outputs": [
    {
     "name": "stderr",
     "output_type": "stream",
     "text": [
      "                                                                                \r"
     ]
    },
    {
     "name": "stdout",
     "output_type": "stream",
     "text": [
      "16247 4186\n"
     ]
    },
    {
     "name": "stderr",
     "output_type": "stream",
     "text": [
      "                                                                                \r"
     ]
    }
   ],
   "source": [
    "train_data, test_data = df_housing.randomSplit([.8,.2], seed=RANDOM_SEED)\n",
    "print(train_data.count(), test_data.count()) "
   ]
  },
  {
   "cell_type": "markdown",
   "id": "267e20b9",
   "metadata": {},
   "source": [
    "Первая модель линейной регрессии будет использовать все данные:"
   ]
  },
  {
   "cell_type": "code",
   "execution_count": 17,
   "id": "89a5db2e",
   "metadata": {},
   "outputs": [],
   "source": [
    "lr_1 = LinearRegression(labelCol=target, featuresCol='features',regParam=0.0)"
   ]
  },
  {
   "cell_type": "code",
   "execution_count": 18,
   "id": "03ce30de",
   "metadata": {},
   "outputs": [
    {
     "name": "stderr",
     "output_type": "stream",
     "text": [
      "22/03/31 07:45:13 WARN Instrumentation: [1b1fb85d] regParam is zero, which might cause numerical instability and overfitting.\n",
      "22/03/31 07:45:14 WARN BLAS: Failed to load implementation from: com.github.fommil.netlib.NativeSystemBLAS\n",
      "22/03/31 07:45:14 WARN BLAS: Failed to load implementation from: com.github.fommil.netlib.NativeRefBLAS\n",
      "22/03/31 07:45:14 WARN LAPACK: Failed to load implementation from: com.github.fommil.netlib.NativeSystemLAPACK\n",
      "22/03/31 07:45:14 WARN LAPACK: Failed to load implementation from: com.github.fommil.netlib.NativeRefLAPACK\n",
      "                                                                                \r"
     ]
    }
   ],
   "source": [
    "model = lr_1.fit(train_data) "
   ]
  },
  {
   "cell_type": "markdown",
   "id": "fc95d717",
   "metadata": {},
   "source": [
    "Сохраним трансформированную таблицу с колонкой предсказания первой модели в переменной `predictions`:"
   ]
  },
  {
   "cell_type": "code",
   "execution_count": 19,
   "id": "9f916a03",
   "metadata": {},
   "outputs": [],
   "source": [
    "predictions = model.transform(test_data)"
   ]
  },
  {
   "cell_type": "code",
   "execution_count": 20,
   "id": "b43a2aa4",
   "metadata": {},
   "outputs": [],
   "source": [
    "predictions_col = 'prediction'"
   ]
  },
  {
   "cell_type": "markdown",
   "id": "e928f175",
   "metadata": {},
   "source": [
    "Теперь аналогично построим вторую модель, используя только числовые переменные, исключив категориальные:"
   ]
  },
  {
   "cell_type": "code",
   "execution_count": 21,
   "id": "41b1907e",
   "metadata": {},
   "outputs": [],
   "source": [
    "lr_2 = LinearRegression(labelCol=target, featuresCol='numerical_features_scaled', regParam=0.0)"
   ]
  },
  {
   "cell_type": "code",
   "execution_count": 22,
   "id": "a6a7c8ce",
   "metadata": {},
   "outputs": [
    {
     "name": "stderr",
     "output_type": "stream",
     "text": [
      "22/03/31 07:45:17 WARN Instrumentation: [af513d5e] regParam is zero, which might cause numerical instability and overfitting.\n",
      "                                                                                \r"
     ]
    }
   ],
   "source": [
    "model2 = lr_2.fit(train_data) "
   ]
  },
  {
   "cell_type": "markdown",
   "id": "ecf510c1",
   "metadata": {},
   "source": [
    "Сохраним трансформированную таблицу с колонкой предсказания первой модели в переменной `predictions2`:"
   ]
  },
  {
   "cell_type": "code",
   "execution_count": 23,
   "id": "882a3ae0",
   "metadata": {},
   "outputs": [],
   "source": [
    "predictions2 = model2.transform(test_data)"
   ]
  },
  {
   "cell_type": "markdown",
   "id": "78cbca3e",
   "metadata": {
    "id": "757fd103"
   },
   "source": [
    "## Анализ результатов"
   ]
  },
  {
   "cell_type": "markdown",
   "id": "2a056dfd",
   "metadata": {},
   "source": [
    "Для анализа результатов работы модели создадим объект класса RegressionEvaluator:"
   ]
  },
  {
   "cell_type": "code",
   "execution_count": 24,
   "id": "770af99f",
   "metadata": {},
   "outputs": [],
   "source": [
    "evaluator = RegressionEvaluator(predictionCol=predictions_col, labelCol = target)"
   ]
  },
  {
   "cell_type": "markdown",
   "id": "dcb8299d",
   "metadata": {},
   "source": [
    "Сравним результаты работы линейной регрессии на двух наборах данных по следующим метрикам:"
   ]
  },
  {
   "cell_type": "markdown",
   "id": "2bc8cf02",
   "metadata": {},
   "source": [
    "### Корень от средней квадратической ошибки - RMSE: "
   ]
  },
  {
   "cell_type": "markdown",
   "id": "93b6d458",
   "metadata": {},
   "source": [
    "Первая метрика - корень от средней квадратической ошибки. В свою очередь средняя квадратическая ошибка - это величина равная сумме квадратов отклонений (разница между предсказанием и фактической величиной целевого признака), разделенной на количество объектов. Чем точнее модель, тем больше значение RMSE будет стремиться к нулю. \n",
    "\n",
    "Оценим качество работы моделей согласно значениям метрики RMSE."
   ]
  },
  {
   "cell_type": "markdown",
   "id": "b63e8222",
   "metadata": {},
   "source": [
    "Для первой (учитывающей все признаки):"
   ]
  },
  {
   "cell_type": "code",
   "execution_count": 25,
   "id": "919f3c88",
   "metadata": {},
   "outputs": [
    {
     "name": "stderr",
     "output_type": "stream",
     "text": [
      "                                                                                \r"
     ]
    },
    {
     "data": {
      "text/plain": [
       "69547.08641331746"
      ]
     },
     "execution_count": 25,
     "metadata": {},
     "output_type": "execute_result"
    }
   ],
   "source": [
    "evaluator.evaluate(predictions, {evaluator.metricName: \"rmse\"})"
   ]
  },
  {
   "cell_type": "markdown",
   "id": "72816656",
   "metadata": {},
   "source": [
    "И для второй (учитывающей только количественные признаки):"
   ]
  },
  {
   "cell_type": "code",
   "execution_count": 26,
   "id": "e3dcfa51",
   "metadata": {},
   "outputs": [
    {
     "name": "stderr",
     "output_type": "stream",
     "text": [
      "                                                                                \r"
     ]
    },
    {
     "data": {
      "text/plain": [
       "70338.98028399626"
      ]
     },
     "execution_count": 26,
     "metadata": {},
     "output_type": "execute_result"
    }
   ],
   "source": [
    "evaluator.evaluate(predictions2, {evaluator.metricName: \"rmse\"})"
   ]
  },
  {
   "cell_type": "markdown",
   "id": "74db2409",
   "metadata": {},
   "source": [
    "Как видим, согласно значениям метрики RMSE первая модель работает точнее."
   ]
  },
  {
   "cell_type": "markdown",
   "id": "4c53eb96",
   "metadata": {},
   "source": [
    "###  MAE:"
   ]
  },
  {
   "cell_type": "markdown",
   "id": "6937c603",
   "metadata": {},
   "source": [
    "Среднее абсолютное значение или MAE - это величина, равная сумме всех модулей отклонений (разница между предсказанием и фактическим значением целевого признака), разделенная на количество объектов в выборке.\n",
    "\n",
    "Соответственно, для модели, которая идеально работает, MAE будет равен 0. Поэтому, чем меньше будет значение этой метрики, тем точнее модель. \n",
    "\n",
    "Оценим качество работы моделей:"
   ]
  },
  {
   "cell_type": "markdown",
   "id": "50259030",
   "metadata": {},
   "source": [
    "Для первой (учитывающей все признаки):"
   ]
  },
  {
   "cell_type": "code",
   "execution_count": 27,
   "id": "b5068b49",
   "metadata": {},
   "outputs": [
    {
     "data": {
      "text/plain": [
       "50655.72889574194"
      ]
     },
     "execution_count": 27,
     "metadata": {},
     "output_type": "execute_result"
    }
   ],
   "source": [
    "evaluator.evaluate(predictions, {evaluator.metricName: \"mae\"})"
   ]
  },
  {
   "cell_type": "markdown",
   "id": "8339dcf0",
   "metadata": {},
   "source": [
    "И для второй (учитывающей только количественные признаки):"
   ]
  },
  {
   "cell_type": "code",
   "execution_count": 28,
   "id": "ccefa0bc",
   "metadata": {},
   "outputs": [
    {
     "data": {
      "text/plain": [
       "51552.85923933801"
      ]
     },
     "execution_count": 28,
     "metadata": {},
     "output_type": "execute_result"
    }
   ],
   "source": [
    "evaluator.evaluate(predictions2, {evaluator.metricName: \"mae\"})"
   ]
  },
  {
   "cell_type": "markdown",
   "id": "6b9df14e",
   "metadata": {},
   "source": [
    "Как видим, согласно значениям метрики MAE первая модель работает точнее."
   ]
  },
  {
   "cell_type": "markdown",
   "id": "6e962226",
   "metadata": {},
   "source": [
    "###  R2: "
   ]
  },
  {
   "cell_type": "markdown",
   "id": "a8108b79",
   "metadata": {},
   "source": [
    "Коэффициент детерминации (R2) равен значению равному:\n",
    "\n",
    "1 -  доля среднеквадратической ошибки модели от MSE среднего.\n",
    "\n",
    "Это значит, что R2 равно единице, когда модель идеально предсказывает результат, а 0 - когда работает также, как и среднее. Соответственно, чем выше R2, тем точнее модель."
   ]
  },
  {
   "cell_type": "markdown",
   "id": "18a8f715",
   "metadata": {},
   "source": [
    "Подсчитаем значение R2 для каждой из моделей:"
   ]
  },
  {
   "cell_type": "markdown",
   "id": "98cf8297",
   "metadata": {},
   "source": [
    "Для первой (учитывающей все признаки):"
   ]
  },
  {
   "cell_type": "code",
   "execution_count": 29,
   "id": "fad2dee1",
   "metadata": {},
   "outputs": [
    {
     "data": {
      "text/plain": [
       "0.6389097095403226"
      ]
     },
     "execution_count": 29,
     "metadata": {},
     "output_type": "execute_result"
    }
   ],
   "source": [
    "evaluator.evaluate(predictions, {evaluator.metricName: \"r2\"})"
   ]
  },
  {
   "cell_type": "markdown",
   "id": "512ef3b7",
   "metadata": {},
   "source": [
    "И для второй (учитывающей только количественные признаки):"
   ]
  },
  {
   "cell_type": "code",
   "execution_count": 30,
   "id": "18964680",
   "metadata": {},
   "outputs": [
    {
     "data": {
      "text/plain": [
       "0.6306398264505922"
      ]
     },
     "execution_count": 30,
     "metadata": {},
     "output_type": "execute_result"
    }
   ],
   "source": [
    "evaluator.evaluate(predictions2, {evaluator.metricName: \"r2\"})"
   ]
  },
  {
   "cell_type": "markdown",
   "id": "0f787e73",
   "metadata": {},
   "source": [
    "Как видим, согласно значениям метрики R2 первая модель работает точнее."
   ]
  },
  {
   "cell_type": "markdown",
   "id": "c330dd5e",
   "metadata": {},
   "source": [
    "### Выводы:"
   ]
  },
  {
   "cell_type": "markdown",
   "id": "24c85886",
   "metadata": {},
   "source": [
    "В рамках данной работы мы:\n",
    "\n",
    "* Инициализировали локальную Spark-сессию\n",
    "* Провели предобработку данных, используя методы pySpark \n",
    "* Исследовали данные на наличие пропусков и избавились от них\n",
    "* Преобразовали колонку с категориальными значениями техникой One hot encoding.\n",
    "* Провели стандартизацию количественных признаков\n",
    "\n",
    "Построив две модели линейной регрессии на разных наборах данных:\n",
    "\n",
    "1) используя все данные из файла;\n",
    "\n",
    "2) используя только числовые переменные, исключив категориальные.\n",
    "\n",
    "\n",
    "мы выяснили, что **согласно всем трем метрикам  RMSE, MAE и R2 точнее работает первая модель, использующая все данные из файла.**\n"
   ]
  }
 ],
 "metadata": {
  "ExecuteTimeLog": [
   {
    "duration": 833,
    "start_time": "2022-02-23T21:32:22.221Z"
   },
   {
    "duration": 13601,
    "start_time": "2022-02-23T21:32:38.425Z"
   },
   {
    "duration": 6972,
    "start_time": "2022-02-23T21:33:10.124Z"
   },
   {
    "duration": 35,
    "start_time": "2022-02-23T21:33:57.464Z"
   },
   {
    "duration": 4755,
    "start_time": "2022-02-23T21:34:42.928Z"
   },
   {
    "duration": 1264,
    "start_time": "2022-02-23T21:35:37.796Z"
   },
   {
    "duration": 722,
    "start_time": "2022-02-23T21:36:10.970Z"
   },
   {
    "duration": 2998,
    "start_time": "2022-02-23T21:37:56.812Z"
   },
   {
    "duration": 3362,
    "start_time": "2022-02-23T21:41:25.529Z"
   },
   {
    "duration": 1073,
    "start_time": "2022-02-23T22:35:11.437Z"
   },
   {
    "duration": 829,
    "start_time": "2022-02-23T22:35:21.952Z"
   },
   {
    "duration": 624,
    "start_time": "2022-02-23T22:37:05.117Z"
   },
   {
    "duration": 4581,
    "start_time": "2022-02-23T22:37:58.063Z"
   },
   {
    "duration": 3108,
    "start_time": "2022-02-23T22:38:11.942Z"
   },
   {
    "duration": 42874,
    "start_time": "2022-02-23T22:39:19.556Z"
   },
   {
    "duration": 242,
    "start_time": "2022-02-23T22:45:18.066Z"
   },
   {
    "duration": 234,
    "start_time": "2022-02-23T22:47:54.154Z"
   },
   {
    "duration": 236,
    "start_time": "2022-02-23T22:48:29.319Z"
   },
   {
    "duration": 309,
    "start_time": "2022-02-23T22:49:44.483Z"
   },
   {
    "duration": 247,
    "start_time": "2022-02-23T22:50:46.301Z"
   },
   {
    "duration": 3,
    "start_time": "2022-02-23T22:51:03.005Z"
   },
   {
    "duration": 265,
    "start_time": "2022-02-23T22:51:16.651Z"
   },
   {
    "duration": 235,
    "start_time": "2022-02-23T22:51:42.495Z"
   },
   {
    "duration": 2749,
    "start_time": "2022-02-23T22:53:25.600Z"
   },
   {
    "duration": 144052,
    "start_time": "2022-02-23T22:55:11.085Z"
   },
   {
    "duration": 36558,
    "start_time": "2022-02-23T22:59:37.453Z"
   },
   {
    "duration": 542,
    "start_time": "2022-02-23T23:01:37.966Z"
   },
   {
    "duration": 283,
    "start_time": "2022-02-23T23:01:43.676Z"
   },
   {
    "duration": 374,
    "start_time": "2022-02-23T23:02:03.304Z"
   },
   {
    "duration": 72,
    "start_time": "2022-02-23T23:02:54.721Z"
   },
   {
    "duration": 312,
    "start_time": "2022-02-23T23:02:59.549Z"
   },
   {
    "duration": 233,
    "start_time": "2022-02-23T23:03:07.424Z"
   },
   {
    "duration": 290,
    "start_time": "2022-03-06T17:44:30.657Z"
   },
   {
    "duration": 75,
    "start_time": "2022-03-09T12:05:22.228Z"
   },
   {
    "duration": 290,
    "start_time": "2022-03-09T12:05:29.016Z"
   },
   {
    "duration": 1196,
    "start_time": "2022-03-09T12:05:36.090Z"
   },
   {
    "duration": 13275,
    "start_time": "2022-03-09T12:05:37.288Z"
   },
   {
    "duration": 5855,
    "start_time": "2022-03-09T12:05:50.565Z"
   },
   {
    "duration": 85,
    "start_time": "2022-03-09T12:05:56.422Z"
   },
   {
    "duration": 3795,
    "start_time": "2022-03-09T12:05:56.509Z"
   },
   {
    "duration": 3795,
    "start_time": "2022-03-09T12:06:00.306Z"
   },
   {
    "duration": 3310,
    "start_time": "2022-03-09T12:06:04.103Z"
   },
   {
    "duration": 14,
    "start_time": "2022-03-09T12:06:07.415Z"
   },
   {
    "duration": 29890,
    "start_time": "2022-03-09T12:06:07.430Z"
   },
   {
    "duration": 9239,
    "start_time": "2022-03-09T12:06:37.322Z"
   },
   {
    "duration": 2865,
    "start_time": "2022-03-09T12:11:58.136Z"
   },
   {
    "duration": 2657,
    "start_time": "2022-03-09T12:19:28.664Z"
   },
   {
    "duration": 1922,
    "start_time": "2022-03-09T12:21:35.428Z"
   },
   {
    "duration": 1721,
    "start_time": "2022-03-09T12:21:59.926Z"
   },
   {
    "duration": 1467,
    "start_time": "2022-03-09T12:22:14.410Z"
   },
   {
    "duration": 1563,
    "start_time": "2022-03-09T12:23:02.073Z"
   },
   {
    "duration": 1753,
    "start_time": "2022-03-09T12:23:22.078Z"
   },
   {
    "duration": 1152,
    "start_time": "2022-03-09T12:23:36.149Z"
   },
   {
    "duration": 1350,
    "start_time": "2022-03-09T12:24:47.205Z"
   },
   {
    "duration": 1820,
    "start_time": "2022-03-09T12:24:59.981Z"
   },
   {
    "duration": 91,
    "start_time": "2022-03-09T12:34:56.866Z"
   },
   {
    "duration": 252,
    "start_time": "2022-03-09T12:35:01.127Z"
   },
   {
    "duration": 1360,
    "start_time": "2022-03-09T12:35:20.188Z"
   },
   {
    "duration": 506,
    "start_time": "2022-03-09T12:35:26.798Z"
   },
   {
    "duration": 167,
    "start_time": "2022-03-09T12:35:36.678Z"
   },
   {
    "duration": 1039,
    "start_time": "2022-03-09T12:35:52.534Z"
   },
   {
    "duration": 91,
    "start_time": "2022-03-09T12:49:59.350Z"
   },
   {
    "duration": 14,
    "start_time": "2022-03-09T13:04:27.533Z"
   },
   {
    "duration": 381,
    "start_time": "2022-03-09T13:04:42.729Z"
   },
   {
    "duration": 3,
    "start_time": "2022-03-09T13:05:02.339Z"
   },
   {
    "duration": 193,
    "start_time": "2022-03-09T13:05:06.372Z"
   },
   {
    "duration": 429,
    "start_time": "2022-03-09T13:05:12.981Z"
   },
   {
    "duration": 446,
    "start_time": "2022-03-09T13:05:36.612Z"
   },
   {
    "duration": 698,
    "start_time": "2022-03-09T13:05:43.625Z"
   },
   {
    "duration": 434,
    "start_time": "2022-03-09T13:06:02.300Z"
   },
   {
    "duration": 1354,
    "start_time": "2022-03-09T13:06:51.789Z"
   },
   {
    "duration": 1176,
    "start_time": "2022-03-09T13:07:04.849Z"
   },
   {
    "duration": 83,
    "start_time": "2022-03-09T13:12:13.579Z"
   },
   {
    "duration": 280,
    "start_time": "2022-03-09T13:12:20.951Z"
   },
   {
    "duration": 12,
    "start_time": "2022-03-09T16:29:20.757Z"
   },
   {
    "duration": 266,
    "start_time": "2022-03-09T17:56:27.664Z"
   },
   {
    "duration": 1076,
    "start_time": "2022-03-09T17:56:44.084Z"
   },
   {
    "duration": 710,
    "start_time": "2022-03-09T17:57:42.799Z"
   },
   {
    "duration": 569,
    "start_time": "2022-03-09T17:58:30.388Z"
   },
   {
    "duration": 889,
    "start_time": "2022-03-09T17:58:45.923Z"
   },
   {
    "duration": 997,
    "start_time": "2022-03-09T17:58:58.517Z"
   },
   {
    "duration": 490,
    "start_time": "2022-03-09T17:59:26.438Z"
   },
   {
    "duration": 625,
    "start_time": "2022-03-09T18:01:23.441Z"
   },
   {
    "duration": 527,
    "start_time": "2022-03-09T18:01:29.923Z"
   },
   {
    "duration": 240,
    "start_time": "2022-03-09T19:18:13.445Z"
   },
   {
    "duration": 12,
    "start_time": "2022-03-10T14:28:18.660Z"
   },
   {
    "duration": 4516,
    "start_time": "2022-03-10T14:28:26.939Z"
   },
   {
    "duration": 1696,
    "start_time": "2022-03-10T14:28:59.716Z"
   },
   {
    "duration": 277,
    "start_time": "2022-03-10T14:31:03.213Z"
   },
   {
    "duration": 68,
    "start_time": "2022-03-10T14:31:42.710Z"
   },
   {
    "duration": 367,
    "start_time": "2022-03-10T14:31:51.944Z"
   },
   {
    "duration": 249,
    "start_time": "2022-03-10T14:33:19.453Z"
   },
   {
    "duration": 1049,
    "start_time": "2022-03-10T14:35:56.710Z"
   },
   {
    "duration": 280,
    "start_time": "2022-03-10T14:38:58.196Z"
   },
   {
    "duration": 326,
    "start_time": "2022-03-10T14:39:45.925Z"
   },
   {
    "duration": 252,
    "start_time": "2022-03-10T14:42:34.030Z"
   },
   {
    "duration": 1663,
    "start_time": "2022-03-10T14:42:50.293Z"
   },
   {
    "duration": -49,
    "start_time": "2022-03-10T14:42:52.007Z"
   },
   {
    "duration": -50,
    "start_time": "2022-03-10T14:42:52.009Z"
   },
   {
    "duration": -77,
    "start_time": "2022-03-10T14:42:52.037Z"
   },
   {
    "duration": -78,
    "start_time": "2022-03-10T14:42:52.039Z"
   },
   {
    "duration": -79,
    "start_time": "2022-03-10T14:42:52.040Z"
   },
   {
    "duration": -79,
    "start_time": "2022-03-10T14:42:52.041Z"
   },
   {
    "duration": -79,
    "start_time": "2022-03-10T14:42:52.042Z"
   },
   {
    "duration": -79,
    "start_time": "2022-03-10T14:42:52.043Z"
   },
   {
    "duration": -79,
    "start_time": "2022-03-10T14:42:52.044Z"
   },
   {
    "duration": 263,
    "start_time": "2022-03-10T14:44:29.795Z"
   },
   {
    "duration": 268,
    "start_time": "2022-03-10T14:46:50.550Z"
   },
   {
    "duration": 3,
    "start_time": "2022-03-10T14:58:47.590Z"
   },
   {
    "duration": 1240,
    "start_time": "2022-03-10T14:58:56.162Z"
   },
   {
    "duration": 13222,
    "start_time": "2022-03-10T14:58:57.403Z"
   },
   {
    "duration": 6907,
    "start_time": "2022-03-10T14:59:10.628Z"
   },
   {
    "duration": 87,
    "start_time": "2022-03-10T14:59:17.537Z"
   },
   {
    "duration": 3610,
    "start_time": "2022-03-10T14:59:17.625Z"
   },
   {
    "duration": 3528,
    "start_time": "2022-03-10T14:59:21.237Z"
   },
   {
    "duration": 336,
    "start_time": "2022-03-10T14:59:24.767Z"
   },
   {
    "duration": -99,
    "start_time": "2022-03-10T14:59:25.205Z"
   },
   {
    "duration": -100,
    "start_time": "2022-03-10T14:59:25.207Z"
   },
   {
    "duration": -101,
    "start_time": "2022-03-10T14:59:25.208Z"
   },
   {
    "duration": -101,
    "start_time": "2022-03-10T14:59:25.209Z"
   },
   {
    "duration": -124,
    "start_time": "2022-03-10T14:59:25.233Z"
   },
   {
    "duration": -124,
    "start_time": "2022-03-10T14:59:25.234Z"
   },
   {
    "duration": 14,
    "start_time": "2022-03-10T14:59:44.341Z"
   },
   {
    "duration": 3927,
    "start_time": "2022-03-10T14:59:46.581Z"
   },
   {
    "duration": 1367,
    "start_time": "2022-03-10T14:59:52.637Z"
   },
   {
    "duration": 244,
    "start_time": "2022-03-10T15:01:01.808Z"
   },
   {
    "duration": 265,
    "start_time": "2022-03-10T15:05:23.296Z"
   },
   {
    "duration": 16,
    "start_time": "2022-03-10T15:05:47.442Z"
   },
   {
    "duration": 291,
    "start_time": "2022-03-10T15:06:17.596Z"
   },
   {
    "duration": 250,
    "start_time": "2022-03-10T15:07:07.091Z"
   },
   {
    "duration": 8,
    "start_time": "2022-03-10T15:07:19.448Z"
   },
   {
    "duration": 9,
    "start_time": "2022-03-10T15:07:49.344Z"
   },
   {
    "duration": 259,
    "start_time": "2022-03-10T15:08:04.353Z"
   },
   {
    "duration": 270,
    "start_time": "2022-03-10T15:08:17.959Z"
   },
   {
    "duration": 3,
    "start_time": "2022-03-10T15:12:37.027Z"
   },
   {
    "duration": 268,
    "start_time": "2022-03-10T15:18:32.813Z"
   },
   {
    "duration": 3,
    "start_time": "2022-03-10T15:19:13.252Z"
   },
   {
    "duration": 3,
    "start_time": "2022-03-10T15:19:15.457Z"
   },
   {
    "duration": 3,
    "start_time": "2022-03-10T18:36:34.344Z"
   },
   {
    "duration": 4,
    "start_time": "2022-03-10T18:37:02.090Z"
   },
   {
    "duration": 4,
    "start_time": "2022-03-10T18:37:18.635Z"
   },
   {
    "duration": 299,
    "start_time": "2022-03-10T18:37:45.482Z"
   },
   {
    "duration": 39,
    "start_time": "2022-03-10T18:38:25.652Z"
   },
   {
    "duration": 272,
    "start_time": "2022-03-10T18:39:32.303Z"
   },
   {
    "duration": 275,
    "start_time": "2022-03-10T18:39:58.204Z"
   },
   {
    "duration": 277,
    "start_time": "2022-03-10T18:40:02.258Z"
   },
   {
    "duration": 267,
    "start_time": "2022-03-10T18:42:26.643Z"
   },
   {
    "duration": 286,
    "start_time": "2022-03-10T18:42:54.551Z"
   },
   {
    "duration": 290,
    "start_time": "2022-03-10T18:45:03.901Z"
   },
   {
    "duration": 263,
    "start_time": "2022-03-10T18:46:53.875Z"
   },
   {
    "duration": 3,
    "start_time": "2022-03-10T18:56:27.873Z"
   },
   {
    "duration": 256,
    "start_time": "2022-03-10T18:56:34.280Z"
   },
   {
    "duration": 260,
    "start_time": "2022-03-10T18:58:36.521Z"
   },
   {
    "duration": 1487,
    "start_time": "2022-03-10T18:59:02.575Z"
   },
   {
    "duration": 292,
    "start_time": "2022-03-10T18:59:21.011Z"
   },
   {
    "duration": 1202,
    "start_time": "2022-03-10T18:59:43.258Z"
   },
   {
    "duration": 13263,
    "start_time": "2022-03-10T18:59:44.463Z"
   },
   {
    "duration": 6376,
    "start_time": "2022-03-10T18:59:57.728Z"
   },
   {
    "duration": 28,
    "start_time": "2022-03-10T19:00:04.106Z"
   },
   {
    "duration": 3601,
    "start_time": "2022-03-10T19:00:04.136Z"
   },
   {
    "duration": 3894,
    "start_time": "2022-03-10T19:00:07.739Z"
   },
   {
    "duration": 15,
    "start_time": "2022-03-10T19:00:11.635Z"
   },
   {
    "duration": 4276,
    "start_time": "2022-03-10T19:00:11.652Z"
   },
   {
    "duration": 1312,
    "start_time": "2022-03-10T19:00:15.930Z"
   },
   {
    "duration": 1567,
    "start_time": "2022-03-10T19:00:17.244Z"
   },
   {
    "duration": 372,
    "start_time": "2022-03-10T19:00:42.212Z"
   },
   {
    "duration": 1218,
    "start_time": "2022-03-10T19:00:53.452Z"
   },
   {
    "duration": 13567,
    "start_time": "2022-03-10T19:00:54.671Z"
   },
   {
    "duration": 6364,
    "start_time": "2022-03-10T19:01:08.241Z"
   },
   {
    "duration": 25,
    "start_time": "2022-03-10T19:01:14.606Z"
   },
   {
    "duration": 4103,
    "start_time": "2022-03-10T19:01:14.632Z"
   },
   {
    "duration": 4302,
    "start_time": "2022-03-10T19:01:18.737Z"
   },
   {
    "duration": 70,
    "start_time": "2022-03-10T19:01:23.041Z"
   },
   {
    "duration": 3572,
    "start_time": "2022-03-10T19:01:23.114Z"
   },
   {
    "duration": 1434,
    "start_time": "2022-03-10T19:01:26.687Z"
   },
   {
    "duration": 4232,
    "start_time": "2022-03-10T19:01:28.123Z"
   },
   {
    "duration": 79,
    "start_time": "2022-03-18T18:16:55.222Z"
   },
   {
    "duration": 814,
    "start_time": "2022-03-18T18:17:02.187Z"
   },
   {
    "duration": 0,
    "start_time": "2022-03-18T18:17:03.004Z"
   },
   {
    "duration": 0,
    "start_time": "2022-03-18T18:17:03.007Z"
   },
   {
    "duration": 0,
    "start_time": "2022-03-18T18:17:03.008Z"
   },
   {
    "duration": 0,
    "start_time": "2022-03-18T18:17:03.011Z"
   },
   {
    "duration": 0,
    "start_time": "2022-03-18T18:17:03.013Z"
   },
   {
    "duration": 0,
    "start_time": "2022-03-18T18:17:03.015Z"
   },
   {
    "duration": 0,
    "start_time": "2022-03-18T18:17:03.017Z"
   },
   {
    "duration": 0,
    "start_time": "2022-03-18T18:17:03.019Z"
   },
   {
    "duration": 0,
    "start_time": "2022-03-18T18:17:03.021Z"
   },
   {
    "duration": 0,
    "start_time": "2022-03-18T18:17:03.023Z"
   },
   {
    "duration": 58,
    "start_time": "2022-03-18T18:18:26.861Z"
   },
   {
    "duration": 179,
    "start_time": "2022-03-18T18:41:44.172Z"
   },
   {
    "duration": 48,
    "start_time": "2022-03-18T18:41:49.720Z"
   },
   {
    "duration": 40,
    "start_time": "2022-03-18T18:41:59.866Z"
   },
   {
    "duration": 1472,
    "start_time": "2022-03-18T18:42:08.123Z"
   },
   {
    "duration": 8,
    "start_time": "2022-03-18T18:42:14.559Z"
   },
   {
    "duration": 1649,
    "start_time": "2022-03-18T18:42:21.745Z"
   },
   {
    "duration": 153,
    "start_time": "2022-03-18T18:42:23.396Z"
   },
   {
    "duration": 0,
    "start_time": "2022-03-18T18:42:23.553Z"
   },
   {
    "duration": 0,
    "start_time": "2022-03-18T18:42:23.555Z"
   },
   {
    "duration": 0,
    "start_time": "2022-03-18T18:42:23.557Z"
   },
   {
    "duration": 0,
    "start_time": "2022-03-18T18:42:23.558Z"
   },
   {
    "duration": 0,
    "start_time": "2022-03-18T18:42:23.560Z"
   },
   {
    "duration": 0,
    "start_time": "2022-03-18T18:42:23.562Z"
   },
   {
    "duration": 0,
    "start_time": "2022-03-18T18:42:23.564Z"
   },
   {
    "duration": 0,
    "start_time": "2022-03-18T18:42:23.566Z"
   },
   {
    "duration": 0,
    "start_time": "2022-03-18T18:42:23.568Z"
   },
   {
    "duration": 56,
    "start_time": "2022-03-18T18:43:30.250Z"
   },
   {
    "duration": 641,
    "start_time": "2022-03-18T18:46:12.262Z"
   },
   {
    "duration": 0,
    "start_time": "2022-03-18T18:46:12.906Z"
   },
   {
    "duration": 0,
    "start_time": "2022-03-18T18:46:12.908Z"
   },
   {
    "duration": 0,
    "start_time": "2022-03-18T18:46:12.909Z"
   },
   {
    "duration": 0,
    "start_time": "2022-03-18T18:46:12.910Z"
   },
   {
    "duration": 0,
    "start_time": "2022-03-18T18:46:12.911Z"
   },
   {
    "duration": 0,
    "start_time": "2022-03-18T18:46:12.913Z"
   },
   {
    "duration": 0,
    "start_time": "2022-03-18T18:46:12.914Z"
   },
   {
    "duration": 0,
    "start_time": "2022-03-18T18:46:12.915Z"
   },
   {
    "duration": 0,
    "start_time": "2022-03-18T18:46:12.917Z"
   },
   {
    "duration": 0,
    "start_time": "2022-03-18T18:46:12.918Z"
   },
   {
    "duration": 42,
    "start_time": "2022-03-18T19:06:00.199Z"
   },
   {
    "duration": 2539,
    "start_time": "2022-03-18T19:20:49.543Z"
   },
   {
    "duration": 40,
    "start_time": "2022-03-18T19:21:12.283Z"
   },
   {
    "duration": 513,
    "start_time": "2022-03-19T16:33:22.043Z"
   },
   {
    "duration": 684,
    "start_time": "2022-03-20T21:59:04.855Z"
   },
   {
    "duration": 71582,
    "start_time": "2022-03-21T18:43:17.751Z"
   },
   {
    "duration": 4328,
    "start_time": "2022-03-22T07:25:22.045Z"
   },
   {
    "duration": 689,
    "start_time": "2022-03-22T07:26:14.174Z"
   },
   {
    "duration": 4207,
    "start_time": "2022-03-22T07:28:31.672Z"
   },
   {
    "duration": 46,
    "start_time": "2022-03-22T07:28:42.304Z"
   },
   {
    "duration": 3894,
    "start_time": "2022-03-22T07:40:40.131Z"
   },
   {
    "duration": 46,
    "start_time": "2022-03-22T07:40:50.542Z"
   },
   {
    "duration": 123903,
    "start_time": "2022-03-22T13:33:15.277Z"
   },
   {
    "duration": 7711,
    "start_time": "2022-03-22T13:38:55.650Z"
   },
   {
    "duration": 463,
    "start_time": "2022-03-22T13:39:03.363Z"
   },
   {
    "duration": 0,
    "start_time": "2022-03-22T13:39:03.828Z"
   },
   {
    "duration": 0,
    "start_time": "2022-03-22T13:39:03.830Z"
   },
   {
    "duration": 0,
    "start_time": "2022-03-22T13:39:03.831Z"
   },
   {
    "duration": 0,
    "start_time": "2022-03-22T13:39:03.837Z"
   },
   {
    "duration": 0,
    "start_time": "2022-03-22T13:39:03.839Z"
   },
   {
    "duration": 0,
    "start_time": "2022-03-22T13:39:03.840Z"
   },
   {
    "duration": 0,
    "start_time": "2022-03-22T13:39:03.841Z"
   },
   {
    "duration": 0,
    "start_time": "2022-03-22T13:39:03.842Z"
   },
   {
    "duration": 0,
    "start_time": "2022-03-22T13:39:03.843Z"
   },
   {
    "duration": 0,
    "start_time": "2022-03-22T13:39:03.844Z"
   },
   {
    "duration": 473,
    "start_time": "2022-03-22T13:39:21.934Z"
   },
   {
    "duration": 71476,
    "start_time": "2022-03-22T13:39:26.281Z"
   },
   {
    "duration": 34,
    "start_time": "2022-03-22T13:41:21.302Z"
   },
   {
    "duration": 22865,
    "start_time": "2022-03-22T13:44:04.004Z"
   },
   {
    "duration": 450,
    "start_time": "2022-03-22T13:44:30.585Z"
   },
   {
    "duration": 494,
    "start_time": "2022-03-22T13:44:41.325Z"
   },
   {
    "duration": 105532,
    "start_time": "2022-03-22T13:45:44.804Z"
   },
   {
    "duration": 477,
    "start_time": "2022-03-22T13:47:30.338Z"
   },
   {
    "duration": 0,
    "start_time": "2022-03-22T13:47:30.817Z"
   },
   {
    "duration": 0,
    "start_time": "2022-03-22T13:47:30.818Z"
   },
   {
    "duration": 0,
    "start_time": "2022-03-22T13:47:30.819Z"
   },
   {
    "duration": 0,
    "start_time": "2022-03-22T13:47:30.820Z"
   },
   {
    "duration": 0,
    "start_time": "2022-03-22T13:47:30.821Z"
   },
   {
    "duration": 0,
    "start_time": "2022-03-22T13:47:30.822Z"
   },
   {
    "duration": 0,
    "start_time": "2022-03-22T13:47:30.823Z"
   },
   {
    "duration": 0,
    "start_time": "2022-03-22T13:47:30.824Z"
   },
   {
    "duration": 0,
    "start_time": "2022-03-22T13:47:30.837Z"
   },
   {
    "duration": 0,
    "start_time": "2022-03-22T13:47:30.838Z"
   },
   {
    "duration": 485,
    "start_time": "2022-03-22T13:50:18.198Z"
   },
   {
    "duration": 54846,
    "start_time": "2022-03-22T13:51:47.066Z"
   },
   {
    "duration": 498,
    "start_time": "2022-03-22T13:52:41.915Z"
   },
   {
    "duration": 0,
    "start_time": "2022-03-22T13:52:42.415Z"
   },
   {
    "duration": 0,
    "start_time": "2022-03-22T13:52:42.416Z"
   },
   {
    "duration": 0,
    "start_time": "2022-03-22T13:52:42.417Z"
   },
   {
    "duration": 0,
    "start_time": "2022-03-22T13:52:42.418Z"
   },
   {
    "duration": 0,
    "start_time": "2022-03-22T13:52:42.419Z"
   },
   {
    "duration": 0,
    "start_time": "2022-03-22T13:52:42.420Z"
   },
   {
    "duration": 0,
    "start_time": "2022-03-22T13:52:42.421Z"
   },
   {
    "duration": 0,
    "start_time": "2022-03-22T13:52:42.422Z"
   },
   {
    "duration": 0,
    "start_time": "2022-03-22T13:52:42.423Z"
   },
   {
    "duration": 0,
    "start_time": "2022-03-22T13:52:42.423Z"
   },
   {
    "duration": 100831,
    "start_time": "2022-03-22T13:55:05.868Z"
   },
   {
    "duration": 2552,
    "start_time": "2022-03-22T14:00:33.448Z"
   },
   {
    "duration": 485,
    "start_time": "2022-03-22T14:00:44.606Z"
   },
   {
    "duration": 27,
    "start_time": "2022-03-22T14:00:53.593Z"
   },
   {
    "duration": 2336,
    "start_time": "2022-03-22T14:01:12.417Z"
   },
   {
    "duration": 72,
    "start_time": "2022-03-22T14:01:14.756Z"
   },
   {
    "duration": 0,
    "start_time": "2022-03-22T14:01:14.831Z"
   },
   {
    "duration": 0,
    "start_time": "2022-03-22T14:01:14.832Z"
   },
   {
    "duration": 0,
    "start_time": "2022-03-22T14:01:14.833Z"
   },
   {
    "duration": 0,
    "start_time": "2022-03-22T14:01:14.833Z"
   },
   {
    "duration": 0,
    "start_time": "2022-03-22T14:01:14.834Z"
   },
   {
    "duration": 0,
    "start_time": "2022-03-22T14:01:14.837Z"
   },
   {
    "duration": 0,
    "start_time": "2022-03-22T14:01:14.839Z"
   },
   {
    "duration": 0,
    "start_time": "2022-03-22T14:01:14.840Z"
   },
   {
    "duration": 0,
    "start_time": "2022-03-22T14:01:14.841Z"
   },
   {
    "duration": 0,
    "start_time": "2022-03-22T14:01:14.842Z"
   },
   {
    "duration": 0,
    "start_time": "2022-03-22T14:01:14.844Z"
   },
   {
    "duration": 414,
    "start_time": "2022-03-22T19:03:58.498Z"
   },
   {
    "duration": 7,
    "start_time": "2022-03-22T19:04:58.204Z"
   },
   {
    "duration": 606,
    "start_time": "2022-03-22T19:06:40.012Z"
   },
   {
    "duration": 602,
    "start_time": "2022-03-22T19:10:13.806Z"
   },
   {
    "duration": 141,
    "start_time": "2022-03-22T19:12:47.312Z"
   },
   {
    "duration": 2315,
    "start_time": "2022-03-22T19:12:53.634Z"
   },
   {
    "duration": 2327,
    "start_time": "2022-03-22T19:13:36.843Z"
   },
   {
    "duration": 2119,
    "start_time": "2022-03-22T19:15:45.375Z"
   },
   {
    "duration": 29,
    "start_time": "2022-03-22T19:15:51.539Z"
   },
   {
    "duration": 597,
    "start_time": "2022-03-22T19:16:11.969Z"
   },
   {
    "duration": 599,
    "start_time": "2022-03-22T19:16:18.143Z"
   },
   {
    "duration": 603,
    "start_time": "2022-03-22T19:16:23.639Z"
   },
   {
    "duration": 11,
    "start_time": "2022-03-22T19:17:50.808Z"
   },
   {
    "duration": 26,
    "start_time": "2022-03-22T19:18:05.168Z"
   },
   {
    "duration": 2423,
    "start_time": "2022-03-22T19:18:29.302Z"
   },
   {
    "duration": 28,
    "start_time": "2022-03-22T19:18:34.823Z"
   },
   {
    "duration": 28,
    "start_time": "2022-03-22T19:18:50.864Z"
   },
   {
    "duration": 98949,
    "start_time": "2022-03-22T19:19:02.691Z"
   },
   {
    "duration": 492,
    "start_time": "2022-03-22T19:29:46.326Z"
   },
   {
    "duration": 0,
    "start_time": "2022-03-22T19:29:46.821Z"
   },
   {
    "duration": 0,
    "start_time": "2022-03-22T19:29:46.822Z"
   },
   {
    "duration": 0,
    "start_time": "2022-03-22T19:29:46.823Z"
   },
   {
    "duration": 0,
    "start_time": "2022-03-22T19:29:46.824Z"
   },
   {
    "duration": 0,
    "start_time": "2022-03-22T19:29:46.825Z"
   },
   {
    "duration": 0,
    "start_time": "2022-03-22T19:29:46.826Z"
   },
   {
    "duration": 0,
    "start_time": "2022-03-22T19:29:46.827Z"
   },
   {
    "duration": 0,
    "start_time": "2022-03-22T19:29:46.828Z"
   },
   {
    "duration": 0,
    "start_time": "2022-03-22T19:29:46.829Z"
   },
   {
    "duration": 0,
    "start_time": "2022-03-22T19:29:46.837Z"
   },
   {
    "duration": 1992,
    "start_time": "2022-03-25T15:20:39.857Z"
   },
   {
    "duration": 4,
    "start_time": "2022-03-25T15:20:53.503Z"
   },
   {
    "duration": 18250,
    "start_time": "2022-03-25T15:20:59.845Z"
   },
   {
    "duration": 1680,
    "start_time": "2022-03-25T15:21:34.225Z"
   },
   {
    "duration": 18762,
    "start_time": "2022-03-25T15:21:35.908Z"
   },
   {
    "duration": 12229,
    "start_time": "2022-03-25T15:21:54.672Z"
   },
   {
    "duration": 164,
    "start_time": "2022-03-25T15:22:06.904Z"
   },
   {
    "duration": 7041,
    "start_time": "2022-03-25T15:22:07.071Z"
   },
   {
    "duration": 5834,
    "start_time": "2022-03-25T15:22:14.114Z"
   },
   {
    "duration": 33,
    "start_time": "2022-03-25T15:22:19.950Z"
   },
   {
    "duration": 5501,
    "start_time": "2022-03-25T15:22:19.986Z"
   },
   {
    "duration": 2893,
    "start_time": "2022-03-25T15:22:25.489Z"
   },
   {
    "duration": 2115,
    "start_time": "2022-03-25T15:22:28.384Z"
   },
   {
    "duration": 0,
    "start_time": "2022-03-25T15:22:30.502Z"
   },
   {
    "duration": 3,
    "start_time": "2022-03-25T16:04:34.279Z"
   },
   {
    "duration": 163,
    "start_time": "2022-03-25T16:05:25.605Z"
   },
   {
    "duration": 1852,
    "start_time": "2022-03-25T16:05:53.894Z"
   },
   {
    "duration": 18646,
    "start_time": "2022-03-25T16:05:55.749Z"
   },
   {
    "duration": 11781,
    "start_time": "2022-03-25T16:06:14.402Z"
   },
   {
    "duration": 106,
    "start_time": "2022-03-25T16:06:26.185Z"
   },
   {
    "duration": 6778,
    "start_time": "2022-03-25T16:06:26.293Z"
   },
   {
    "duration": 6120,
    "start_time": "2022-03-25T16:06:33.074Z"
   },
   {
    "duration": 84,
    "start_time": "2022-03-25T16:06:39.196Z"
   },
   {
    "duration": 5542,
    "start_time": "2022-03-25T16:06:39.283Z"
   },
   {
    "duration": 2249,
    "start_time": "2022-03-25T16:06:44.829Z"
   },
   {
    "duration": 5,
    "start_time": "2022-03-25T16:06:47.081Z"
   },
   {
    "duration": 1644,
    "start_time": "2022-03-25T16:06:51.009Z"
   },
   {
    "duration": 18044,
    "start_time": "2022-03-25T16:06:52.656Z"
   },
   {
    "duration": 13482,
    "start_time": "2022-03-25T16:07:10.702Z"
   },
   {
    "duration": 113,
    "start_time": "2022-03-25T16:07:24.187Z"
   },
   {
    "duration": 7992,
    "start_time": "2022-03-25T16:07:24.303Z"
   },
   {
    "duration": 6382,
    "start_time": "2022-03-25T16:07:32.298Z"
   },
   {
    "duration": 91,
    "start_time": "2022-03-25T16:07:38.683Z"
   },
   {
    "duration": 6091,
    "start_time": "2022-03-25T16:07:38.777Z"
   },
   {
    "duration": 2128,
    "start_time": "2022-03-25T16:07:44.871Z"
   },
   {
    "duration": 3,
    "start_time": "2022-03-25T16:07:47.002Z"
   },
   {
    "duration": 2100,
    "start_time": "2022-03-25T16:07:47.068Z"
   },
   {
    "duration": 3165,
    "start_time": "2022-03-25T16:09:25.232Z"
   },
   {
    "duration": 54,
    "start_time": "2022-03-25T16:09:56.639Z"
   },
   {
    "duration": 1400,
    "start_time": "2022-03-25T16:10:29.812Z"
   },
   {
    "duration": 30,
    "start_time": "2022-03-25T16:10:56.951Z"
   },
   {
    "duration": 390,
    "start_time": "2022-03-25T16:11:06.095Z"
   },
   {
    "duration": 4641,
    "start_time": "2022-03-25T16:11:36.929Z"
   },
   {
    "duration": 3062,
    "start_time": "2022-03-25T16:11:52.237Z"
   },
   {
    "duration": 3005,
    "start_time": "2022-03-25T16:12:06.176Z"
   },
   {
    "duration": 1981,
    "start_time": "2022-03-25T16:43:17.108Z"
   },
   {
    "duration": 22316,
    "start_time": "2022-03-25T16:43:19.095Z"
   },
   {
    "duration": 13974,
    "start_time": "2022-03-25T16:43:41.416Z"
   },
   {
    "duration": 175,
    "start_time": "2022-03-25T16:43:55.394Z"
   },
   {
    "duration": 9105,
    "start_time": "2022-03-25T16:43:55.573Z"
   },
   {
    "duration": 7805,
    "start_time": "2022-03-25T16:44:04.681Z"
   },
   {
    "duration": 106,
    "start_time": "2022-03-25T16:44:12.489Z"
   },
   {
    "duration": 6909,
    "start_time": "2022-03-25T16:44:12.600Z"
   },
   {
    "duration": 2995,
    "start_time": "2022-03-25T16:44:19.514Z"
   },
   {
    "duration": 7,
    "start_time": "2022-03-25T16:44:22.569Z"
   },
   {
    "duration": 2110,
    "start_time": "2022-03-25T16:44:22.579Z"
   },
   {
    "duration": 4154,
    "start_time": "2022-03-25T16:44:24.692Z"
   },
   {
    "duration": 121,
    "start_time": "2022-03-25T16:44:28.848Z"
   },
   {
    "duration": 2012,
    "start_time": "2022-03-25T16:44:28.973Z"
   },
   {
    "duration": 92,
    "start_time": "2022-03-25T16:44:30.988Z"
   },
   {
    "duration": 595,
    "start_time": "2022-03-25T16:44:31.086Z"
   },
   {
    "duration": 5683,
    "start_time": "2022-03-25T16:44:31.686Z"
   },
   {
    "duration": 3625,
    "start_time": "2022-03-25T16:44:37.372Z"
   },
   {
    "duration": 3866,
    "start_time": "2022-03-25T16:44:41.002Z"
   },
   {
    "duration": 113,
    "start_time": "2022-03-29T10:35:13.662Z"
   },
   {
    "duration": 2162,
    "start_time": "2022-03-29T10:35:19.567Z"
   },
   {
    "duration": 20277,
    "start_time": "2022-03-29T10:35:21.732Z"
   },
   {
    "duration": 84,
    "start_time": "2022-03-29T10:35:42.013Z"
   },
   {
    "duration": 147,
    "start_time": "2022-03-29T10:59:24.412Z"
   },
   {
    "duration": 5,
    "start_time": "2022-03-29T10:59:30.725Z"
   },
   {
    "duration": 12,
    "start_time": "2022-03-29T10:59:30.733Z"
   },
   {
    "duration": 13147,
    "start_time": "2022-03-29T10:59:30.747Z"
   },
   {
    "duration": 125,
    "start_time": "2022-03-29T10:59:43.897Z"
   },
   {
    "duration": 8393,
    "start_time": "2022-03-29T10:59:44.025Z"
   },
   {
    "duration": 5,
    "start_time": "2022-03-29T11:00:10.954Z"
   },
   {
    "duration": 1303,
    "start_time": "2022-03-29T11:00:14.310Z"
   },
   {
    "duration": 10,
    "start_time": "2022-03-29T11:00:20.998Z"
   },
   {
    "duration": 2814,
    "start_time": "2022-03-29T11:00:24.500Z"
   },
   {
    "duration": 2888,
    "start_time": "2022-03-29T11:00:36.398Z"
   },
   {
    "duration": 5,
    "start_time": "2022-03-29T11:00:42.812Z"
   },
   {
    "duration": 15,
    "start_time": "2022-03-29T11:00:42.819Z"
   },
   {
    "duration": 995,
    "start_time": "2022-03-29T11:00:42.837Z"
   },
   {
    "duration": 70,
    "start_time": "2022-03-29T11:00:43.835Z"
   },
   {
    "duration": 1914,
    "start_time": "2022-03-29T11:00:43.909Z"
   },
   {
    "duration": 7,
    "start_time": "2022-03-29T11:01:09.057Z"
   },
   {
    "duration": 755,
    "start_time": "2022-03-29T11:07:23.374Z"
   },
   {
    "duration": 388,
    "start_time": "2022-03-29T23:09:19.033Z"
   },
   {
    "duration": 3,
    "start_time": "2022-03-29T23:09:29.629Z"
   },
   {
    "duration": 1503,
    "start_time": "2022-03-29T23:09:55.006Z"
   },
   {
    "duration": 3,
    "start_time": "2022-03-29T23:09:56.512Z"
   },
   {
    "duration": 15053,
    "start_time": "2022-03-29T23:09:56.517Z"
   },
   {
    "duration": 8975,
    "start_time": "2022-03-29T23:10:11.573Z"
   },
   {
    "duration": 106,
    "start_time": "2022-03-29T23:10:20.551Z"
   },
   {
    "duration": 4475,
    "start_time": "2022-03-29T23:10:20.659Z"
   },
   {
    "duration": 4496,
    "start_time": "2022-03-29T23:10:25.136Z"
   },
   {
    "duration": 24,
    "start_time": "2022-03-29T23:10:29.634Z"
   },
   {
    "duration": 4485,
    "start_time": "2022-03-29T23:10:29.660Z"
   },
   {
    "duration": 1429,
    "start_time": "2022-03-29T23:10:34.146Z"
   },
   {
    "duration": 56,
    "start_time": "2022-03-29T23:10:35.576Z"
   },
   {
    "duration": 1616,
    "start_time": "2022-03-29T23:10:35.634Z"
   },
   {
    "duration": 2331,
    "start_time": "2022-03-29T23:10:37.252Z"
   },
   {
    "duration": 62,
    "start_time": "2022-03-29T23:10:39.586Z"
   },
   {
    "duration": 1204,
    "start_time": "2022-03-29T23:10:39.650Z"
   },
   {
    "duration": 96,
    "start_time": "2022-03-29T23:10:40.855Z"
   },
   {
    "duration": 378,
    "start_time": "2022-03-29T23:10:40.953Z"
   },
   {
    "duration": 2729,
    "start_time": "2022-03-29T23:10:41.333Z"
   },
   {
    "duration": 1882,
    "start_time": "2022-03-29T23:10:44.063Z"
   },
   {
    "duration": 1994,
    "start_time": "2022-03-29T23:10:45.947Z"
   },
   {
    "duration": 118,
    "start_time": "2022-03-29T23:10:47.943Z"
   },
   {
    "duration": 1576076,
    "start_time": "2022-03-29T23:10:48.063Z"
   },
   {
    "duration": 0,
    "start_time": "2022-03-29T23:37:04.142Z"
   },
   {
    "duration": 1323,
    "start_time": "2022-03-29T23:37:09.106Z"
   },
   {
    "duration": 3,
    "start_time": "2022-03-29T23:37:10.431Z"
   },
   {
    "duration": 15429,
    "start_time": "2022-03-29T23:37:10.435Z"
   },
   {
    "duration": 8896,
    "start_time": "2022-03-29T23:37:25.866Z"
   },
   {
    "duration": 97,
    "start_time": "2022-03-29T23:37:34.764Z"
   },
   {
    "duration": 4392,
    "start_time": "2022-03-29T23:37:34.862Z"
   },
   {
    "duration": 4777,
    "start_time": "2022-03-29T23:37:39.255Z"
   },
   {
    "duration": 25,
    "start_time": "2022-03-29T23:37:44.034Z"
   },
   {
    "duration": 4573,
    "start_time": "2022-03-29T23:37:44.061Z"
   },
   {
    "duration": 1608,
    "start_time": "2022-03-29T23:37:48.636Z"
   },
   {
    "duration": 3,
    "start_time": "2022-03-29T23:37:50.246Z"
   },
   {
    "duration": 1514,
    "start_time": "2022-03-29T23:37:50.251Z"
   },
   {
    "duration": 2601,
    "start_time": "2022-03-29T23:37:51.768Z"
   },
   {
    "duration": 163,
    "start_time": "2022-03-29T23:37:54.373Z"
   },
   {
    "duration": 1198,
    "start_time": "2022-03-29T23:37:54.538Z"
   },
   {
    "duration": 25,
    "start_time": "2022-03-29T23:37:55.738Z"
   },
   {
    "duration": 4678,
    "start_time": "2022-03-29T23:37:55.765Z"
   },
   {
    "duration": 0,
    "start_time": "2022-03-29T23:38:00.445Z"
   },
   {
    "duration": 0,
    "start_time": "2022-03-29T23:38:00.446Z"
   },
   {
    "duration": 0,
    "start_time": "2022-03-29T23:38:00.447Z"
   },
   {
    "duration": 0,
    "start_time": "2022-03-29T23:38:00.448Z"
   },
   {
    "duration": 0,
    "start_time": "2022-03-29T23:38:00.449Z"
   },
   {
    "duration": 0,
    "start_time": "2022-03-29T23:38:00.451Z"
   },
   {
    "duration": 5709,
    "start_time": "2022-03-29T23:39:28.007Z"
   },
   {
    "duration": 319,
    "start_time": "2022-03-29T23:40:14.225Z"
   },
   {
    "duration": 2387,
    "start_time": "2022-03-29T23:40:18.445Z"
   },
   {
    "duration": 2241,
    "start_time": "2022-03-29T23:40:22.917Z"
   },
   {
    "duration": 1866,
    "start_time": "2022-03-29T23:40:26.009Z"
   },
   {
    "duration": 55,
    "start_time": "2022-03-29T23:40:32.645Z"
   },
   {
    "duration": 2088130,
    "start_time": "2022-03-29T23:40:35.475Z"
   },
   {
    "duration": 0,
    "start_time": "2022-03-30T00:15:23.606Z"
   },
   {
    "duration": 1308,
    "start_time": "2022-03-30T00:15:43.018Z"
   },
   {
    "duration": 15043,
    "start_time": "2022-03-30T00:15:44.328Z"
   },
   {
    "duration": 8662,
    "start_time": "2022-03-30T00:15:59.373Z"
   },
   {
    "duration": 37,
    "start_time": "2022-03-30T00:16:08.037Z"
   },
   {
    "duration": 4380,
    "start_time": "2022-03-30T00:16:08.075Z"
   },
   {
    "duration": 4917,
    "start_time": "2022-03-30T00:16:12.457Z"
   },
   {
    "duration": 66,
    "start_time": "2022-03-30T00:16:17.375Z"
   },
   {
    "duration": 4295,
    "start_time": "2022-03-30T00:16:17.443Z"
   },
   {
    "duration": 1628,
    "start_time": "2022-03-30T00:16:21.740Z"
   },
   {
    "duration": 3,
    "start_time": "2022-03-30T00:16:23.371Z"
   },
   {
    "duration": 1563,
    "start_time": "2022-03-30T00:16:23.376Z"
   },
   {
    "duration": 2555,
    "start_time": "2022-03-30T00:16:24.940Z"
   },
   {
    "duration": 63,
    "start_time": "2022-03-30T00:16:27.497Z"
   },
   {
    "duration": 1272,
    "start_time": "2022-03-30T00:16:27.562Z"
   },
   {
    "duration": 27,
    "start_time": "2022-03-30T00:16:28.836Z"
   },
   {
    "duration": 386,
    "start_time": "2022-03-30T00:16:28.864Z"
   },
   {
    "duration": 3088,
    "start_time": "2022-03-30T00:16:29.252Z"
   },
   {
    "duration": 2107,
    "start_time": "2022-03-30T00:16:32.341Z"
   },
   {
    "duration": 2103,
    "start_time": "2022-03-30T00:16:34.450Z"
   },
   {
    "duration": 116,
    "start_time": "2022-03-30T00:16:36.555Z"
   },
   {
    "duration": 4381,
    "start_time": "2022-03-30T00:16:36.672Z"
   },
   {
    "duration": 20,
    "start_time": "2022-03-30T00:17:27.269Z"
   },
   {
    "duration": 4,
    "start_time": "2022-03-30T00:21:33.527Z"
   },
   {
    "duration": 11,
    "start_time": "2022-03-30T00:23:02.457Z"
   },
   {
    "duration": 111,
    "start_time": "2022-03-30T00:24:26.964Z"
   },
   {
    "duration": 17,
    "start_time": "2022-03-30T00:30:17.635Z"
   },
   {
    "duration": 4,
    "start_time": "2022-03-30T00:31:00.605Z"
   },
   {
    "duration": 26,
    "start_time": "2022-03-30T00:31:00.611Z"
   },
   {
    "duration": 522,
    "start_time": "2022-03-30T00:31:00.639Z"
   },
   {
    "duration": 69,
    "start_time": "2022-03-30T00:31:01.163Z"
   },
   {
    "duration": 1222,
    "start_time": "2022-03-30T00:31:01.235Z"
   },
   {
    "duration": 2579,
    "start_time": "2022-03-30T00:31:02.460Z"
   },
   {
    "duration": 9,
    "start_time": "2022-03-30T00:31:05.041Z"
   },
   {
    "duration": 2730,
    "start_time": "2022-03-30T00:31:05.052Z"
   },
   {
    "duration": 1175,
    "start_time": "2022-03-30T00:31:07.784Z"
   },
   {
    "duration": 4,
    "start_time": "2022-03-30T00:31:08.961Z"
   },
   {
    "duration": 501,
    "start_time": "2022-03-30T00:31:08.967Z"
   },
   {
    "duration": 1174,
    "start_time": "2022-03-30T00:31:09.470Z"
   },
   {
    "duration": 23,
    "start_time": "2022-03-30T00:31:10.645Z"
   },
   {
    "duration": 576,
    "start_time": "2022-03-30T00:31:10.672Z"
   },
   {
    "duration": 82,
    "start_time": "2022-03-30T00:31:11.250Z"
   },
   {
    "duration": 141,
    "start_time": "2022-03-30T00:31:11.334Z"
   },
   {
    "duration": 1166,
    "start_time": "2022-03-30T00:31:11.477Z"
   },
   {
    "duration": 1197,
    "start_time": "2022-03-30T00:31:12.645Z"
   },
   {
    "duration": 1138,
    "start_time": "2022-03-30T00:31:13.844Z"
   },
   {
    "duration": 52,
    "start_time": "2022-03-30T00:31:14.984Z"
   },
   {
    "duration": 1821,
    "start_time": "2022-03-30T00:31:15.038Z"
   },
   {
    "duration": 22,
    "start_time": "2022-03-30T00:31:16.861Z"
   },
   {
    "duration": 63,
    "start_time": "2022-03-30T00:31:16.885Z"
   },
   {
    "duration": 739,
    "start_time": "2022-03-30T00:33:18.893Z"
   },
   {
    "duration": 1406,
    "start_time": "2022-03-30T00:33:33.636Z"
   },
   {
    "duration": 2,
    "start_time": "2022-03-30T00:34:21.864Z"
   },
   {
    "duration": 8,
    "start_time": "2022-03-30T00:34:27.656Z"
   },
   {
    "duration": 5,
    "start_time": "2022-03-30T00:34:37.209Z"
   },
   {
    "duration": 8,
    "start_time": "2022-03-30T00:34:53.010Z"
   },
   {
    "duration": 447,
    "start_time": "2022-03-30T00:36:11.790Z"
   },
   {
    "duration": 7,
    "start_time": "2022-03-30T00:36:37.222Z"
   },
   {
    "duration": 7,
    "start_time": "2022-03-30T00:36:37.231Z"
   },
   {
    "duration": 293,
    "start_time": "2022-03-30T00:36:37.240Z"
   },
   {
    "duration": 7,
    "start_time": "2022-03-30T00:36:37.534Z"
   },
   {
    "duration": 903,
    "start_time": "2022-03-30T00:36:37.543Z"
   },
   {
    "duration": 1657,
    "start_time": "2022-03-30T00:36:38.448Z"
   },
   {
    "duration": 32,
    "start_time": "2022-03-30T00:36:40.107Z"
   },
   {
    "duration": 2157,
    "start_time": "2022-03-30T00:36:40.141Z"
   },
   {
    "duration": 865,
    "start_time": "2022-03-30T00:36:42.299Z"
   },
   {
    "duration": 3,
    "start_time": "2022-03-30T00:36:43.166Z"
   },
   {
    "duration": 278,
    "start_time": "2022-03-30T00:36:43.171Z"
   },
   {
    "duration": 1049,
    "start_time": "2022-03-30T00:36:43.450Z"
   },
   {
    "duration": 36,
    "start_time": "2022-03-30T00:36:44.501Z"
   },
   {
    "duration": 391,
    "start_time": "2022-03-30T00:36:44.541Z"
   },
   {
    "duration": 20,
    "start_time": "2022-03-30T00:36:44.934Z"
   },
   {
    "duration": 137,
    "start_time": "2022-03-30T00:36:44.955Z"
   },
   {
    "duration": 979,
    "start_time": "2022-03-30T00:36:45.094Z"
   },
   {
    "duration": 1192,
    "start_time": "2022-03-30T00:36:46.075Z"
   },
   {
    "duration": 1003,
    "start_time": "2022-03-30T00:36:47.270Z"
   },
   {
    "duration": 64,
    "start_time": "2022-03-30T00:36:48.275Z"
   },
   {
    "duration": 1820,
    "start_time": "2022-03-30T00:36:48.341Z"
   },
   {
    "duration": 75,
    "start_time": "2022-03-30T00:36:50.163Z"
   },
   {
    "duration": 3,
    "start_time": "2022-03-30T00:36:50.239Z"
   },
   {
    "duration": 12,
    "start_time": "2022-03-30T00:36:50.244Z"
   },
   {
    "duration": 937,
    "start_time": "2022-03-30T00:37:07.107Z"
   },
   {
    "duration": 657,
    "start_time": "2022-03-30T00:37:48.652Z"
   },
   {
    "duration": 594,
    "start_time": "2022-03-30T00:37:56.342Z"
   },
   {
    "duration": 170,
    "start_time": "2022-03-30T00:39:47.261Z"
   },
   {
    "duration": 19,
    "start_time": "2022-03-30T00:40:15.222Z"
   },
   {
    "duration": 8,
    "start_time": "2022-03-30T00:40:31.394Z"
   },
   {
    "duration": 207,
    "start_time": "2022-03-30T00:40:49.714Z"
   },
   {
    "duration": 1307,
    "start_time": "2022-03-30T00:41:51.508Z"
   },
   {
    "duration": 15125,
    "start_time": "2022-03-30T00:41:52.817Z"
   },
   {
    "duration": 8614,
    "start_time": "2022-03-30T00:42:07.944Z"
   },
   {
    "duration": 96,
    "start_time": "2022-03-30T00:42:16.560Z"
   },
   {
    "duration": 4402,
    "start_time": "2022-03-30T00:42:16.659Z"
   },
   {
    "duration": 4584,
    "start_time": "2022-03-30T00:42:21.063Z"
   },
   {
    "duration": 89,
    "start_time": "2022-03-30T00:42:25.649Z"
   },
   {
    "duration": 4305,
    "start_time": "2022-03-30T00:42:25.740Z"
   },
   {
    "duration": 1425,
    "start_time": "2022-03-30T00:42:30.047Z"
   },
   {
    "duration": 3,
    "start_time": "2022-03-30T00:42:31.474Z"
   },
   {
    "duration": 1424,
    "start_time": "2022-03-30T00:42:31.531Z"
   },
   {
    "duration": 2605,
    "start_time": "2022-03-30T00:42:32.957Z"
   },
   {
    "duration": 76,
    "start_time": "2022-03-30T00:42:35.564Z"
   },
   {
    "duration": 1123,
    "start_time": "2022-03-30T00:42:35.643Z"
   },
   {
    "duration": 86,
    "start_time": "2022-03-30T00:42:36.767Z"
   },
   {
    "duration": 395,
    "start_time": "2022-03-30T00:42:36.855Z"
   },
   {
    "duration": 2894,
    "start_time": "2022-03-30T00:42:37.252Z"
   },
   {
    "duration": 2109,
    "start_time": "2022-03-30T00:42:40.148Z"
   },
   {
    "duration": 2301,
    "start_time": "2022-03-30T00:42:42.259Z"
   },
   {
    "duration": 112,
    "start_time": "2022-03-30T00:42:44.562Z"
   },
   {
    "duration": 4224,
    "start_time": "2022-03-30T00:42:44.732Z"
   },
   {
    "duration": 88,
    "start_time": "2022-03-30T00:42:48.958Z"
   },
   {
    "duration": 3,
    "start_time": "2022-03-30T00:42:49.047Z"
   },
   {
    "duration": 87,
    "start_time": "2022-03-30T00:42:49.052Z"
   },
   {
    "duration": 7,
    "start_time": "2022-03-30T00:42:49.141Z"
   },
   {
    "duration": 483,
    "start_time": "2022-03-30T00:42:49.150Z"
   },
   {
    "duration": 0,
    "start_time": "2022-03-30T00:42:49.635Z"
   },
   {
    "duration": 0,
    "start_time": "2022-03-30T00:42:49.636Z"
   },
   {
    "duration": 0,
    "start_time": "2022-03-30T00:42:49.637Z"
   },
   {
    "duration": 0,
    "start_time": "2022-03-30T00:42:49.638Z"
   },
   {
    "duration": 9,
    "start_time": "2022-03-30T00:44:00.654Z"
   },
   {
    "duration": 3433,
    "start_time": "2022-03-30T00:44:03.916Z"
   },
   {
    "duration": 25,
    "start_time": "2022-03-30T00:44:23.478Z"
   },
   {
    "duration": 9,
    "start_time": "2022-03-30T00:44:45.193Z"
   },
   {
    "duration": 1041,
    "start_time": "2022-03-30T00:44:50.427Z"
   },
   {
    "duration": 831,
    "start_time": "2022-03-30T00:45:00.308Z"
   },
   {
    "duration": 617,
    "start_time": "2022-03-30T00:45:15.226Z"
   },
   {
    "duration": 666,
    "start_time": "2022-03-30T00:45:17.440Z"
   },
   {
    "duration": 639,
    "start_time": "2022-03-30T00:45:23.894Z"
   },
   {
    "duration": 621,
    "start_time": "2022-03-30T00:45:32.012Z"
   },
   {
    "duration": 4,
    "start_time": "2022-03-30T00:50:15.917Z"
   },
   {
    "duration": 109,
    "start_time": "2022-03-30T22:21:42.359Z"
   },
   {
    "duration": 105,
    "start_time": "2022-03-31T07:33:37.285Z"
   },
   {
    "duration": 44,
    "start_time": "2022-03-31T07:33:37.563Z"
   },
   {
    "duration": 1375,
    "start_time": "2022-03-31T07:35:56.714Z"
   },
   {
    "duration": 14724,
    "start_time": "2022-03-31T07:35:58.091Z"
   },
   {
    "duration": 8205,
    "start_time": "2022-03-31T07:36:12.817Z"
   },
   {
    "duration": 93,
    "start_time": "2022-03-31T07:36:21.024Z"
   },
   {
    "duration": 3991,
    "start_time": "2022-03-31T07:36:21.119Z"
   },
   {
    "duration": 3909,
    "start_time": "2022-03-31T07:36:25.111Z"
   },
   {
    "duration": 17,
    "start_time": "2022-03-31T07:36:29.022Z"
   },
   {
    "duration": 3890,
    "start_time": "2022-03-31T07:36:29.040Z"
   },
   {
    "duration": 9,
    "start_time": "2022-03-31T07:36:32.932Z"
   },
   {
    "duration": 1682,
    "start_time": "2022-03-31T07:36:32.943Z"
   },
   {
    "duration": 2003,
    "start_time": "2022-03-31T07:36:34.627Z"
   },
   {
    "duration": 81,
    "start_time": "2022-03-31T07:36:36.632Z"
   },
   {
    "duration": 1118,
    "start_time": "2022-03-31T07:36:36.715Z"
   },
   {
    "duration": 81,
    "start_time": "2022-03-31T07:36:37.835Z"
   },
   {
    "duration": 310,
    "start_time": "2022-03-31T07:36:37.918Z"
   },
   {
    "duration": 3489,
    "start_time": "2022-03-31T07:36:38.230Z"
   },
   {
    "duration": 104,
    "start_time": "2022-03-31T07:36:41.722Z"
   },
   {
    "duration": 3587,
    "start_time": "2022-03-31T07:36:41.827Z"
   },
   {
    "duration": 21,
    "start_time": "2022-03-31T07:36:45.416Z"
   },
   {
    "duration": 70,
    "start_time": "2022-03-31T07:36:45.439Z"
   },
   {
    "duration": 10,
    "start_time": "2022-03-31T07:36:45.511Z"
   },
   {
    "duration": 2703,
    "start_time": "2022-03-31T07:36:45.523Z"
   },
   {
    "duration": 86,
    "start_time": "2022-03-31T07:36:48.228Z"
   },
   {
    "duration": 16,
    "start_time": "2022-03-31T07:36:48.315Z"
   },
   {
    "duration": 986,
    "start_time": "2022-03-31T07:36:48.333Z"
   },
   {
    "duration": 120,
    "start_time": "2022-03-31T07:36:49.320Z"
   },
   {
    "duration": 0,
    "start_time": "2022-03-31T07:36:49.442Z"
   },
   {
    "duration": 0,
    "start_time": "2022-03-31T07:36:49.444Z"
   },
   {
    "duration": 0,
    "start_time": "2022-03-31T07:36:49.445Z"
   },
   {
    "duration": 0,
    "start_time": "2022-03-31T07:36:49.447Z"
   },
   {
    "duration": 194,
    "start_time": "2022-03-31T07:37:38.615Z"
   },
   {
    "duration": 508,
    "start_time": "2022-03-31T07:37:49.865Z"
   },
   {
    "duration": 1187,
    "start_time": "2022-03-31T07:38:28.775Z"
   },
   {
    "duration": 14373,
    "start_time": "2022-03-31T07:38:29.964Z"
   },
   {
    "duration": 7608,
    "start_time": "2022-03-31T07:38:44.339Z"
   },
   {
    "duration": 32,
    "start_time": "2022-03-31T07:38:52.008Z"
   },
   {
    "duration": 4086,
    "start_time": "2022-03-31T07:38:52.042Z"
   },
   {
    "duration": 4110,
    "start_time": "2022-03-31T07:38:56.130Z"
   },
   {
    "duration": 81,
    "start_time": "2022-03-31T07:39:00.242Z"
   },
   {
    "duration": 3928,
    "start_time": "2022-03-31T07:39:00.325Z"
   },
   {
    "duration": 57,
    "start_time": "2022-03-31T07:39:04.255Z"
   },
   {
    "duration": 1234,
    "start_time": "2022-03-31T07:39:04.315Z"
   },
   {
    "duration": 2412,
    "start_time": "2022-03-31T07:39:05.551Z"
   },
   {
    "duration": 65,
    "start_time": "2022-03-31T07:39:07.966Z"
   },
   {
    "duration": 1076,
    "start_time": "2022-03-31T07:39:08.033Z"
   },
   {
    "duration": 22,
    "start_time": "2022-03-31T07:39:09.111Z"
   },
   {
    "duration": 382,
    "start_time": "2022-03-31T07:39:09.136Z"
   },
   {
    "duration": 2902,
    "start_time": "2022-03-31T07:39:09.519Z"
   },
   {
    "duration": 107,
    "start_time": "2022-03-31T07:39:12.423Z"
   },
   {
    "duration": 3784,
    "start_time": "2022-03-31T07:39:12.532Z"
   },
   {
    "duration": 19,
    "start_time": "2022-03-31T07:39:16.317Z"
   },
   {
    "duration": 3,
    "start_time": "2022-03-31T07:39:16.338Z"
   },
   {
    "duration": 9,
    "start_time": "2022-03-31T07:39:16.409Z"
   },
   {
    "duration": 2606,
    "start_time": "2022-03-31T07:39:16.419Z"
   },
   {
    "duration": 82,
    "start_time": "2022-03-31T07:39:19.027Z"
   },
   {
    "duration": 17,
    "start_time": "2022-03-31T07:39:19.111Z"
   },
   {
    "duration": 884,
    "start_time": "2022-03-31T07:39:19.130Z"
   },
   {
    "duration": 627,
    "start_time": "2022-03-31T07:39:20.016Z"
   },
   {
    "duration": 136,
    "start_time": "2022-03-31T07:39:20.644Z"
   },
   {
    "duration": 0,
    "start_time": "2022-03-31T07:39:20.782Z"
   },
   {
    "duration": 0,
    "start_time": "2022-03-31T07:39:20.783Z"
   },
   {
    "duration": 0,
    "start_time": "2022-03-31T07:39:20.784Z"
   },
   {
    "duration": 530,
    "start_time": "2022-03-31T07:40:06.007Z"
   },
   {
    "duration": 582,
    "start_time": "2022-03-31T07:40:09.347Z"
   },
   {
    "duration": 589,
    "start_time": "2022-03-31T07:40:15.325Z"
   },
   {
    "duration": 452,
    "start_time": "2022-03-31T07:40:18.928Z"
   },
   {
    "duration": 309,
    "start_time": "2022-03-31T07:41:45.516Z"
   },
   {
    "duration": 124,
    "start_time": "2022-03-31T07:42:25.625Z"
   },
   {
    "duration": 1191,
    "start_time": "2022-03-31T07:43:56.976Z"
   },
   {
    "duration": 14647,
    "start_time": "2022-03-31T07:43:58.168Z"
   },
   {
    "duration": 7829,
    "start_time": "2022-03-31T07:44:12.817Z"
   },
   {
    "duration": 90,
    "start_time": "2022-03-31T07:44:20.648Z"
   },
   {
    "duration": 3280,
    "start_time": "2022-03-31T07:44:20.740Z"
   },
   {
    "duration": 0,
    "start_time": "2022-03-31T07:44:24.022Z"
   },
   {
    "duration": 0,
    "start_time": "2022-03-31T07:44:24.023Z"
   },
   {
    "duration": 0,
    "start_time": "2022-03-31T07:44:24.025Z"
   },
   {
    "duration": 0,
    "start_time": "2022-03-31T07:44:24.026Z"
   },
   {
    "duration": 0,
    "start_time": "2022-03-31T07:44:24.028Z"
   },
   {
    "duration": 0,
    "start_time": "2022-03-31T07:44:24.029Z"
   },
   {
    "duration": 1,
    "start_time": "2022-03-31T07:44:24.029Z"
   },
   {
    "duration": 0,
    "start_time": "2022-03-31T07:44:24.108Z"
   },
   {
    "duration": 0,
    "start_time": "2022-03-31T07:44:24.110Z"
   },
   {
    "duration": 0,
    "start_time": "2022-03-31T07:44:24.111Z"
   },
   {
    "duration": 0,
    "start_time": "2022-03-31T07:44:24.113Z"
   },
   {
    "duration": 0,
    "start_time": "2022-03-31T07:44:24.114Z"
   },
   {
    "duration": 0,
    "start_time": "2022-03-31T07:44:24.115Z"
   },
   {
    "duration": 0,
    "start_time": "2022-03-31T07:44:24.116Z"
   },
   {
    "duration": 0,
    "start_time": "2022-03-31T07:44:24.118Z"
   },
   {
    "duration": 0,
    "start_time": "2022-03-31T07:44:24.119Z"
   },
   {
    "duration": 0,
    "start_time": "2022-03-31T07:44:24.121Z"
   },
   {
    "duration": 0,
    "start_time": "2022-03-31T07:44:24.122Z"
   },
   {
    "duration": 0,
    "start_time": "2022-03-31T07:44:24.124Z"
   },
   {
    "duration": 0,
    "start_time": "2022-03-31T07:44:24.125Z"
   },
   {
    "duration": 0,
    "start_time": "2022-03-31T07:44:24.126Z"
   },
   {
    "duration": 0,
    "start_time": "2022-03-31T07:44:24.208Z"
   },
   {
    "duration": 0,
    "start_time": "2022-03-31T07:44:24.210Z"
   },
   {
    "duration": 0,
    "start_time": "2022-03-31T07:44:24.211Z"
   },
   {
    "duration": 0,
    "start_time": "2022-03-31T07:44:24.212Z"
   },
   {
    "duration": 1150,
    "start_time": "2022-03-31T07:44:29.335Z"
   },
   {
    "duration": 14168,
    "start_time": "2022-03-31T07:44:30.487Z"
   },
   {
    "duration": 8113,
    "start_time": "2022-03-31T07:44:44.709Z"
   },
   {
    "duration": 84,
    "start_time": "2022-03-31T07:44:52.825Z"
   },
   {
    "duration": 3731,
    "start_time": "2022-03-31T07:44:52.911Z"
   },
   {
    "duration": 4081,
    "start_time": "2022-03-31T07:44:56.643Z"
   },
   {
    "duration": 91,
    "start_time": "2022-03-31T07:45:00.726Z"
   },
   {
    "duration": 3650,
    "start_time": "2022-03-31T07:45:00.819Z"
   },
   {
    "duration": 42,
    "start_time": "2022-03-31T07:45:04.471Z"
   },
   {
    "duration": 1412,
    "start_time": "2022-03-31T07:45:04.515Z"
   },
   {
    "duration": 2380,
    "start_time": "2022-03-31T07:45:05.929Z"
   },
   {
    "duration": 98,
    "start_time": "2022-03-31T07:45:08.311Z"
   },
   {
    "duration": 1208,
    "start_time": "2022-03-31T07:45:08.411Z"
   },
   {
    "duration": 22,
    "start_time": "2022-03-31T07:45:09.621Z"
   },
   {
    "duration": 331,
    "start_time": "2022-03-31T07:45:09.709Z"
   },
   {
    "duration": 2879,
    "start_time": "2022-03-31T07:45:10.042Z"
   },
   {
    "duration": 105,
    "start_time": "2022-03-31T07:45:12.923Z"
   },
   {
    "duration": 3581,
    "start_time": "2022-03-31T07:45:13.030Z"
   },
   {
    "duration": 24,
    "start_time": "2022-03-31T07:45:16.613Z"
   },
   {
    "duration": 3,
    "start_time": "2022-03-31T07:45:16.638Z"
   },
   {
    "duration": 73,
    "start_time": "2022-03-31T07:45:16.643Z"
   },
   {
    "duration": 2596,
    "start_time": "2022-03-31T07:45:16.718Z"
   },
   {
    "duration": 23,
    "start_time": "2022-03-31T07:45:19.316Z"
   },
   {
    "duration": 75,
    "start_time": "2022-03-31T07:45:19.341Z"
   },
   {
    "duration": 993,
    "start_time": "2022-03-31T07:45:19.418Z"
   },
   {
    "duration": 999,
    "start_time": "2022-03-31T07:45:20.413Z"
   },
   {
    "duration": 816,
    "start_time": "2022-03-31T07:45:21.414Z"
   },
   {
    "duration": 793,
    "start_time": "2022-03-31T07:45:22.234Z"
   },
   {
    "duration": 710,
    "start_time": "2022-03-31T07:45:23.029Z"
   },
   {
    "duration": 614,
    "start_time": "2022-03-31T07:45:23.741Z"
   }
  ],
  "colab": {
   "name": "PySparkSprint.ipynb",
   "provenance": []
  },
  "kernelspec": {
   "display_name": "Python 3 (ipykernel)",
   "language": "python",
   "name": "python3"
  },
  "language_info": {
   "codemirror_mode": {
    "name": "ipython",
    "version": 3
   },
   "file_extension": ".py",
   "mimetype": "text/x-python",
   "name": "python",
   "nbconvert_exporter": "python",
   "pygments_lexer": "ipython3",
   "version": "3.9.7"
  },
  "toc": {
   "base_numbering": 1,
   "nav_menu": {},
   "number_sections": true,
   "sideBar": true,
   "skip_h1_title": true,
   "title_cell": "Table of Contents",
   "title_sidebar": "Contents",
   "toc_cell": false,
   "toc_position": {},
   "toc_section_display": true,
   "toc_window_display": false
  }
 },
 "nbformat": 4,
 "nbformat_minor": 5
}
